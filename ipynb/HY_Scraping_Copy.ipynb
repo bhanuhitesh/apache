{
 "cells": [
  {
   "cell_type": "code",
   "execution_count": 1,
   "metadata": {},
   "outputs": [
    {
     "name": "stdout",
     "output_type": "stream",
     "text": [
      "/usr/local/bin/chromedriver\r\n"
     ]
    }
   ],
   "source": [
    "#import dependencies\n",
    "import time\n",
    "from bs4 import BeautifulSoup\n",
    "import requests\n",
    "import os\n",
    "import pandas as pd\n",
    "from splinter import Browser\n",
    "!which chromedriver"
   ]
  },
  {
   "cell_type": "code",
   "execution_count": 2,
   "metadata": {
    "collapsed": true
   },
   "outputs": [],
   "source": [
    "###Cyber Attack News"
   ]
  },
  {
   "cell_type": "code",
   "execution_count": 3,
   "metadata": {
    "collapsed": true
   },
   "outputs": [],
   "source": [
    "#url of Security Site Site\n",
    "url = \"https://www.infosecurity-magazine.com/news/\"\n",
    "html = requests.get(url)"
   ]
  },
  {
   "cell_type": "code",
   "execution_count": 4,
   "metadata": {
    "collapsed": true,
    "scrolled": true
   },
   "outputs": [],
   "source": [
    "#Get HTML as text using BeautifulSoup\n",
    "soup = BeautifulSoup(html.text, 'html.parser')"
   ]
  },
  {
   "cell_type": "code",
   "execution_count": 153,
   "metadata": {
    "collapsed": true
   },
   "outputs": [],
   "source": [
    "#Find div with both news title and paragraph text\n",
    "div = soup.body.find('div', class_='webpage-tem with-thumbnail')\n",
    "#Extract text from anchor tag\n",
    "news_title = div.find('div', class_='content_title').find('a').text.strip()\n",
    "#Extract string from div tag\n",
    "news_p = div.find('div', class_='rollover_description_inner').string.strip()"
   ]
  },
  {
   "cell_type": "code",
   "execution_count": 5,
   "metadata": {},
   "outputs": [
    {
     "data": {
      "text/plain": [
       "\n",
       "<!DOCTYPE html>\n",
       "\n",
       "<html xmlns=\"http://www.w3.org/1999/xhtml\">\n",
       "<head><title>\n",
       "\tInformation Security and IT Security News - Infosecurity Magazine\n",
       "</title>\n",
       "<link href=\"//res.infosecurity-magazine.com\" rel=\"dns-prefetch\"/>\n",
       "<link href=\"//assets.infosecurity-magazine.com\" rel=\"dns-prefetch\"/>\n",
       "<meta content=\"width=device-width,initial-scale=1,maximum-scale=1\" name=\"viewport\"/>\n",
       "<meta content=\"telephone=no\" name=\"format-detection\"/>\n",
       "<meta content=\"True\" name=\"HandheldFriendly\"/>\n",
       "<meta content=\"#dc5c64\" name=\"theme-color\"/>\n",
       "<link href=\"https://www.infosecurity-magazine.com:443/news/\" rel=\"canonical\"/>\n",
       "<meta content=\"https://www.infosecurity-magazine.com:443/news/\" property=\"og:url\"/>\n",
       "<meta content=\"Information Security and IT Security News - Infosecurity Magazine\" property=\"og:title\"/>\n",
       "<meta content=\"Information Security and IT Security News - Infosecurity Magazine\" property=\"twitter:title\"/>\n",
       "<meta content=\"Keep up to date with the latest Information Security and IT Security News &amp; Articles - Infosecurity Magazine\" property=\"og:description\"/>\n",
       "<meta content=\"Keep up to date with the latest Information Security and IT Security News &amp; Articles - Infosecurity Magazine\" property=\"twitter:description\"/>\n",
       "<meta content=\"Infosecurity Magazine\" property=\"og:site_name\"/>\n",
       "<meta content=\"@InfosecurityMag\" property=\"twitter:site\"/>\n",
       "<meta content=\"summary\" property=\"twitter:card\"/>\n",
       "<link href=\"https://plus.google.com/+InfosecurityMagazine\" rel=\"publisher\"/>\n",
       "<link href=\"https://www.infosecurity-magazine.com:443/favicon.ico\" rel=\"shortcut icon\" type=\"image/x-icon\"/>\n",
       "<link href=\"https://www.infosecurity-magazine.com:443/_common/img/icons/152x152.png\" rel=\"apple-touch-icon\" sizes=\"152x152\"/>\n",
       "<link href=\"https://www.infosecurity-magazine.com:443/_common/img/icons/144x144.png\" rel=\"apple-touch-icon\" sizes=\"144x144\"/>\n",
       "<link href=\"https://www.infosecurity-magazine.com:443/_common/img/icons/120x120.png\" rel=\"apple-touch-icon\" sizes=\"120x120\"/>\n",
       "<link href=\"https://www.infosecurity-magazine.com:443/_common/img/icons/114x114.png\" rel=\"apple-touch-icon\" sizes=\"114x114\"/>\n",
       "<link href=\"https://www.infosecurity-magazine.com:443/_common/img/icons/72x72.png\" rel=\"apple-touch-icon\" sizes=\"72x72\"/>\n",
       "<meta content=\"Infosecurity Magazine\" name=\"application-name\"/>\n",
       "<meta content=\"#000000\" name=\"msapplication-TileColor\"/>\n",
       "<meta content=\"https://www.infosecurity-magazine.com:443/_common/img/icons/528x528.png\" name=\"msapplication-TileImage\"/>\n",
       "<meta content=\"Keep up to date with the latest Information Security and IT Security News &amp; Articles - Infosecurity Magazine\" name=\"description\"/>\n",
       "<link href=\"https://www.infosecurity-magazine.com:443/news/page-2/\" rel=\"next\"/>\n",
       "<link href=\"//fonts.googleapis.com/css?family=Bitter:400,400italic,700%7cOpen+Sans:400italic,800\" rel=\"stylesheet\" type=\"text/css\"/>\n",
       "<link href=\"//fonts.googleapis.com/css?family=Lato\" rel=\"stylesheet\" type=\"text/css\"/>\n",
       "<link href=\"//res.infosecurity-magazine.com/css-0039/base.css\" rel=\"stylesheet\" type=\"text/css\"/>\n",
       "<link href=\"//res.infosecurity-magazine.com/css-0039/colour-codes.css\" rel=\"stylesheet\" type=\"text/css\"/>\n",
       "<link href=\"//res.infosecurity-magazine.com/css-0039/news.css\" rel=\"stylesheet\" type=\"text/css\"/>\n",
       "<link href=\"//res.infosecurity-magazine.com/css-0039/whats-hot.css\" rel=\"stylesheet\" type=\"text/css\"/>\n",
       "<!--[if IE 8]>\n",
       "    <style>.mega-drop{border: 2px solid #f7f7f7;}.form-panel .textbox.password{font-family: serif;}</style>\n",
       "    <![endif]-->\n",
       "<script src=\"//ajax.googleapis.com/ajax/libs/jquery/1.11.0/jquery.min.js\" type=\"text/javascript\"></script>\n",
       "<script src=\"//res.infosecurity-magazine.com/js-0039/modernizr.js\" type=\"text/javascript\"></script>\n",
       "<!--[if (gte IE 6)&(lte IE 8)]>\n",
       "    <script type=\"text/javascript\" src=\"//res.infosecurity-magazine.com/js-0039/selectivizr.min.js\"></script>\n",
       "    <![endif]-->\n",
       "<!-- Google Tag Manager -->\n",
       "<script>(function (w, d, s, l, i) {\n",
       "            w[l] = w[l] || []; w[l].push({\n",
       "                'gtm.start':\n",
       "                new Date().getTime(), event: 'gtm.js'\n",
       "            }); var f = d.getElementsByTagName(s)[0],\n",
       "                j = d.createElement(s), dl = l != 'dataLayer' ? '&l=' + l : ''; j.async = true; j.src =\n",
       "                    'https://www.googletagmanager.com/gtm.js?id=' + i + dl; f.parentNode.insertBefore(j, f);\n",
       "        })(window, document, 'script', 'dataLayer', 'GTM-MJ69SWF');</script>\n",
       "<!-- End Google Tag Manager -->\n",
       "<script type=\"text/javascript\">\n",
       "        var googletag = googletag || {};\n",
       "        googletag.cmd = googletag.cmd || [];\n",
       "\n",
       "        (function () {\n",
       "            var gads = document.createElement(\"script\");\n",
       "            gads.async = true;\n",
       "            gads.type = \"text/javascript\";\n",
       "            var useSSL = \"https:\" === document.location.protocol;\n",
       "            gads.src = (useSSL ? \"https:\" : \"http:\") + \"//www.googletagservices.com/tag/js/gpt.js\";\n",
       "            var node = document.getElementsByTagName(\"script\")[0];\n",
       "            node.parentNode.insertBefore(gads, node);\n",
       "        })();\n",
       "    </script>\n",
       "<script>\n",
       "        (function() {\n",
       "            var cx = '013025419539759983845:qhnrzazqj0o';\n",
       "            var gcse = document.createElement('script');\n",
       "            gcse.type = 'text/javascript';\n",
       "            gcse.async = true;\n",
       "            gcse.src = (document.location.protocol == 'https:' ? 'https:' : 'http:') + '//www.google.com/cse/cse.js?cx=' + cx;\n",
       "            var s = document.getElementsByTagName('script')[0];\n",
       "            s.parentNode.insertBefore(gcse, s);\n",
       "        })();\n",
       "    </script>\n",
       "<script type=\"text/javascript\">\n",
       "        (function () {\n",
       "            var date = new Date(); date.setTime(date.getTime() + (5 * 24 * 60 * 60 * 1000));\n",
       "            document.cookie = 'ISM.ScreenSize=' + screen.width + ';expires=' + date.toGMTString + ';';\n",
       "            document.createElement('header');\n",
       "            document.createElement('nav');\n",
       "            document.createElement('footer');\n",
       "        }());\n",
       "    </script>\n",
       "<script type=\"text/javascript\">\n",
       "        (function(i,s,o,g,r,a,m){i['GoogleAnalyticsObject']=r;i[r]=i[r]||function(){\n",
       "                (i[r].q=i[r].q||[]).push(arguments)},i[r].l=1*new Date();a=s.createElement(o),\n",
       "                m=s.getElementsByTagName(o)[0];a.async=1;a.src=g;m.parentNode.insertBefore(a,m)\n",
       "        })(window,document,'script','//www.google-analytics.com/analytics.js','ga');\n",
       "\n",
       "        ga('create', 'UA-7632735-1', 'infosecurity-magazine.com');\n",
       "        ga('require', 'localHitSender');\n",
       "        ga('require', 'displayfeatures');\n",
       "        ga('send', 'pageview');\n",
       "        setTimeout(function() { ga('send','event','Profitable Engagement','time on page more than 180 seconds') },180000);\n",
       "        \n",
       "    </script>\n",
       "</head>\n",
       "<body itemscope=\"\" itemtype=\"http://schema.org/WebPage\">\n",
       "<!-- Google Tag Manager (noscript) -->\n",
       "<noscript><iframe height=\"0\" src=\"https://www.googletagmanager.com/ns.html?id=GTM-MJ69SWF\" style=\"display:none;visibility:hidden\" width=\"0\"></iframe></noscript>\n",
       "<!-- End Google Tag Manager (noscript) -->\n",
       "<div class=\"global-header\" style=\"\">\n",
       "<div class=\"container\">\n",
       "<a class=\"global-header__mobile-toggle\" href=\"javascript:;\" id=\"gh-mobile-toggle\">Infosecurity Group Websites</a>\n",
       "<div style=\"\">\n",
       "<ul class=\"global-header__nav\" style=\"\">\n",
       "<li class=\"global-header__nav-item global-header__nav-item--group\"><img src=\"/_common/img/infosecurity-group.svg\" style=\"\"/></li>\n",
       "<li class=\"global-header__nav-item global-header__nav-item--current\">Magazine</li>\n",
       "<li class=\"global-header__nav-item\">\n",
       "<a class=\"global-header__nav-link global-header__nav-link--dropdown\" href=\"javascript:;\">Events</a>\n",
       "<ul class=\"global-sub-nav\">\n",
       "<li class=\"global-sub-nav__item\"><a class=\"global-sub-nav__link\" href=\"http://www.infosecurityeurope.com/\" target=\"_blank\">Infosecurity Europe</a></li>\n",
       "<li class=\"global-sub-nav__item\"><a class=\"global-sub-nav__link\" href=\"http://www.infosecurityleadersnetwork.com/en/Leadership-Summit1/\" target=\"_blank\">Infosecurity Leadership Summit</a></li>\n",
       "<li class=\"global-sub-nav__item\"><a class=\"global-sub-nav__link\" href=\"http://www.infosecurity-magazine.com/magazine-events/\" target=\"_blank\">Infosecurity Magazine Events</a></li>\n",
       "<li class=\"global-sub-nav__item\"><a class=\"global-sub-nav__link\" href=\"http://www.infosecuritynorthamerica.com/\" target=\"_blank\">Infosecurity North America</a></li>\n",
       "<li class=\"global-sub-nav__item\"><a class=\"global-sub-nav__link\" href=\"http://www.infosecurity.nl/\" target=\"_blank\">Infosecurity Netherlands</a></li>\n",
       "<li class=\"global-sub-nav__item\"><a class=\"global-sub-nav__link\" href=\"http://www.infosecurity.be/\" target=\"_blank\">Infosecurity Belgium</a></li>\n",
       "<li class=\"global-sub-nav__item\"><a class=\"global-sub-nav__link\" href=\"http://www.infosecurityrussia.ru/\" target=\"_blank\">Infosecurity Russia</a></li>\n",
       "<li class=\"global-sub-nav__item\"><a class=\"global-sub-nav__link\" href=\"http://www.infosecuritymexico.com/\" target=\"_blank\">Infosecurity Mexico</a></li>\n",
       "<li class=\"global-sub-nav__item\"><a class=\"global-sub-nav__link\" href=\"http://www.infosecurityme.com/\" target=\"_blank\">Infosecurity Middle East</a></li>\n",
       "</ul>\n",
       "</li>\n",
       "<li class=\"global-header__nav-item\"><a class=\"global-header__nav-link\" href=\"http://www.infosecurityleadersnetwork.com/\" target=\"_blank\">Leaders Network</a></li>\n",
       "<li class=\"global-header__nav-item\">\n",
       "<a class=\"global-header__nav-link global-header__nav-link--dropdown\" href=\"javascript:;\">Insight</a>\n",
       "<ul class=\"global-sub-nav\">\n",
       "<li class=\"global-sub-nav__item\"><a class=\"global-sub-nav__link\" href=\"http://www.infosecurity-magazine.com/webinars/\" target=\"_blank\">Infosecurity Webinars</a></li>\n",
       "<li class=\"global-sub-nav__item\"><a class=\"global-sub-nav__link\" href=\"http://www.infosecurity-magazine.com/white-papers/\" target=\"_blank\">Infosecurity Whitepapers</a></li>\n",
       "<li class=\"global-sub-nav__item\"><a class=\"global-sub-nav__link\" href=\"http://www.infosecurity-magazine.com/virtual-conferences/\" target=\"_blank\">Infosecurity Virtual Conferences</a></li>\n",
       "</ul>\n",
       "</li>\n",
       "</ul>\n",
       "</div>\n",
       "</div>\n",
       "</div>\n",
       "<script>\n",
       "    $(function () {\n",
       "        $('#gh-mobile-toggle').on('click', function () {\n",
       "            var global_header = $('.global-header'),\n",
       "                global_header_nav = $('.global-header__nav'),\n",
       "                class_gh_open = 'global-header--open',\n",
       "                class_ghn_open = 'global-header__nav--open';\n",
       "\n",
       "            if (global_header.hasClass(class_gh_open)) {\n",
       "                global_header_nav.removeClass(class_ghn_open)\n",
       "                global_header.removeClass(class_gh_open);\n",
       "            } else {\n",
       "                global_header.addClass(class_gh_open);\n",
       "                global_header_nav.addClass(class_ghn_open)\n",
       "            }\n",
       "        });\n",
       "\n",
       "        $('.global-header__nav-link--dropdown').on('click', function () {\n",
       "            var subNav = $(this).siblings('ul'),\n",
       "                parentItem = $(this).parent('li'),\n",
       "                class_gsn_open = 'global-sub-nav--open',\n",
       "                class_ghni_open = 'global-header__nav-item--open',\n",
       "                isOpen = $(this).siblings('ul').hasClass(class_gsn_open);\n",
       "\n",
       "            $('.global-sub-nav').removeClass(class_gsn_open);\n",
       "            $('.global-header__nav-item').removeClass(class_ghni_open);\n",
       "\n",
       "            if (isOpen) {\n",
       "                subNav.removeClass(class_gsn_open);\n",
       "                parentItem.removeClass(class_ghni_open);\n",
       "            } else {\n",
       "                subNav.addClass(class_gsn_open);\n",
       "                parentItem.addClass(class_ghni_open);\n",
       "            }\n",
       "        });\n",
       "    });\n",
       "</script>\n",
       "<div class=\"site-wrapper\">\n",
       "<div class=\"cookieNotice\">\n",
       "<div class=\"cookieNoticeInner\">\n",
       "<h4>Our website uses cookies</h4>\n",
       "<p>Cookies enable us to provide the best experience possible and help us understand how visitors use our website. By browsing Infosecurity Magazine, you agree to our use of cookies.</p>\n",
       "<a class=\"cookieAccept\" href=\"#\">Okay, I understand</a>\n",
       "<a class=\"cookieDecline\" href=\"https://www.infosecurity-magazine.com:443/cookies/\">Learn more</a>\n",
       "</div>\n",
       "</div>\n",
       "<div class=\"pullout-overlay\"></div>\n",
       "<div class=\"page\">\n",
       "<div class=\"pullout-menu\">\n",
       "<ul class=\"search-box\">\n",
       "<li>\n",
       "<div class=\"gcse-searchbox-only\" data-enableautocomplete=\"false\" data-resultsurl=\"https://www.infosecurity-magazine.com:443/search/\"></div>\n",
       "</li>\n",
       "</ul>\n",
       "<div id=\"mobile-links\">\n",
       "</div>\n",
       "</div>\n",
       "<div class=\"page-wrapper\">\n",
       "<header>\n",
       "<div class=\"container\">\n",
       "<div class=\"header-ad-row\">\n",
       "<div class=\"dfp leaderboard\" data-ad-sizes=\"[728,90]\" id=\"dfp-ad-4852be92-c0a0-4e6e-80f3-3dd0a8365660\" style=\"display: none;\"></div>\n",
       "<div class=\"links-container\">\n",
       "<div class=\"sec-menu\"></div>\n",
       "<div class=\"header-social-links\">\n",
       "<a class=\"fb\" href=\"https://www.facebook.com/pages/Infosecurity-Magazine/210560332330063\" target=\"_blank\"><i class=\"spricon-fb\"></i></a>\n",
       "<a class=\"tw\" href=\"https://twitter.com/InfosecurityMag\" target=\"_blank\"><i class=\"spricon-tw\"></i></a>\n",
       "<a class=\"gp\" href=\"https://plus.google.com/+InfosecurityMagazine/posts\" target=\"_blank\"><i class=\"spricon-gp\"></i></a>\n",
       "<a class=\"li\" href=\"http://www.linkedin.com/groups?gid=2035794&amp;trk=myg_ugrp_ovr\" target=\"_blank\"><i class=\"spricon-li\"></i></a>\n",
       "</div>\n",
       "</div>\n",
       "</div>\n",
       "<div class=\"header-logo-row\">\n",
       "<div class=\"flyout-controls\">\n",
       "<a class=\"menu\" href=\"#\"><i class=\"spricon-menu\"></i></a>\n",
       "</div>\n",
       "<a class=\"infosec-logo\" href=\"https://www.infosecurity-magazine.com:443/\"><i class=\"spricon-infosec\"></i></a>\n",
       "<div class=\"ticker-panel\">\n",
       "<div class=\"ticker-controls\">\n",
       "<span class=\"ticker-item-label\">Latest</span>\n",
       "</div>\n",
       "<ul class=\"ticker\">\n",
       "<li><a href=\"https://www.infosecurity-magazine.com:443/news/23000-individuals-affected-in/\">23,000 Individuals Affected in HealthEquity Breach</a>\n",
       "<li><a href=\"https://www.infosecurity-magazine.com:443/news/cyber-attacks-expected-as-world/\">Cyber-Attacks Expected as World Cup Kicks Off</a>\n",
       "<li><a href=\"https://www.infosecurity-magazine.com:443/news/military-colleges-aim-to-develop/\">Military Colleges Aim to Develop Cyber Programs</a>\n",
       "<li><a href=\"https://www.infosecurity-magazine.com:443/blogs/dixons-carphone-breach-gdpr-whats/\">Dixons Carphone Breach &amp; GDPR: What’s Next?</a>\n",
       "<li><a href=\"https://www.infosecurity-magazine.com:443/news/apple-update-police-cracking/\">Apple Update Will Hamper Police Device Crackers</a>\n",
       "</li></li></li></li></li></ul>\n",
       "<div class=\"clear\"></div>\n",
       "</div>\n",
       "<div class=\"clear\"></div>\n",
       "</div>\n",
       "</div>\n",
       "<nav>\n",
       "<div class=\"nav-row container\">\n",
       "<ul>\n",
       "<li class=\"home\"><a href=\"https://www.infosecurity-magazine.com:443/\"><i class=\"spricon-home\"></i> </a></li>\n",
       "<li><a class=\"nav-bar-link colour-news\" href=\"https://www.infosecurity-magazine.com:443/news/\">News</a></li>\n",
       "<li>\n",
       "<a class=\"nav-bar-link colour-topics\" href=\"https://www.infosecurity-magazine.com:443/nav/topics/\">Topics</a>\n",
       "<ul class=\"mega-drop mega-drop-topics\" id=\"nav-topics\" style=\"\"></ul>\n",
       "</li>\n",
       "<li>\n",
       "<a class=\"nav-bar-link colour-features\" href=\"https://www.infosecurity-magazine.com:443/nav/features/\">Features</a>\n",
       "<ul class=\"mega-drop mega-drop-features\" id=\"nav-features\"></ul>\n",
       "</li>\n",
       "<li><a class=\"nav-bar-link colour-webinars\" href=\"https://www.infosecurity-magazine.com:443/webinars/\">Webinars</a></li>\n",
       "<li><a class=\"nav-bar-link colour-whitepapers\" href=\"https://www.infosecurity-magazine.com:443/white-papers/\">White Papers</a></li>\n",
       "<li>\n",
       "<a class=\"nav-bar-link colour-events\" href=\"https://www.infosecurity-magazine.com:443/nav/events/\">Events &amp; Conferences</a>\n",
       "<ul class=\"mega-drop mega-drop-features\" id=\"nav-events\"></ul>\n",
       "</li>\n",
       "<li><a class=\"nav-bar-link colour-directory\" href=\"https://www.infosecurity-magazine.com:443/directory/\">Directory</a></li>\n",
       "<li id=\"nav-search-li\">\n",
       "<a class=\"nav-bar-link\" href=\"javascript:;\">Search<i class=\"spricon-search\"></i></a>\n",
       "<ul class=\"mega-drop mega-drop-search\" id=\"nav-search\">\n",
       "<li>\n",
       "<div class=\"gcse-searchbox-only\" data-resultsurl=\"https://www.infosecurity-magazine.com:443/search/\"></div>\n",
       "</li>\n",
       "</ul>\n",
       "</li>\n",
       "</ul>\n",
       "<div class=\"clear\"></div>\n",
       "</div>\n",
       "</nav>\n",
       "</header>\n",
       "<div class=\"breadcrumb\" id=\"pnlBreadcrumb\">\n",
       "<div class=\"container\" itemprop=\"breadcrumb\">\n",
       "<a href=\"https://www.infosecurity-magazine.com:443/\">Infosecurity Magazine Home</a> » <a href=\"https://www.infosecurity-magazine.com:443/news/\">News</a>\n",
       "</div>\n",
       "</div>\n",
       "<div class=\"main-content\" id=\"pnlMainContent\">\n",
       "<div class=\"container\">\n",
       "<div class=\"col-2-3 col-left\">\n",
       "<h1><span class=\"stub colour-news\"></span>Infosecurity News</h1>\n",
       "<div id=\"webpages-list\">\n",
       "<div class=\"webpage-item with-thumbnail\" itemscope=\"\" itemtype=\"http://schema.org/NewsArticle\"><a class=\"webpage-link\" href=\"https://www.infosecurity-magazine.com:443/news/23000-individuals-affected-in/\"><img alt=\"23,000 Individuals Affected in HealthEquity Breach\" class=\"thumbnail\" data-src=\"//assets.infosecurity-magazine.com/webpage/thumb/f8481d31-3c30-4c24-aa1b-65fa373e9990.jpg\" src=\"//assets.infosecurity-magazine.com/webpage/thumb/default.jpg\"/><span class=\"pub-date\"><time datetime=\"2018-06-14T16:44:00\" itemprop=\"datePublished\">14 Jun 2018</time></span><h3 itemprop=\"name\">23,000 Individuals Affected in HealthEquity Breach</h3></a><p itemprop=\"articleBody\">A hacker accessed tens of thousands of accounts through an email compromise.</p><div class=\"clear\"></div></div>\n",
       "<div class=\"webpage-item with-thumbnail\" itemscope=\"\" itemtype=\"http://schema.org/NewsArticle\"><a class=\"webpage-link\" href=\"https://www.infosecurity-magazine.com:443/news/cyber-attacks-expected-as-world/\"><img alt=\"Cyber-Attacks Expected as World Cup Kicks Off\" class=\"thumbnail\" data-src=\"//assets.infosecurity-magazine.com/webpage/thumb/12967a02-f74d-4c9f-8e7b-bb64a997ed02.jpg\" src=\"//assets.infosecurity-magazine.com/webpage/thumb/default.jpg\"/><span class=\"pub-date\"><time datetime=\"2018-06-14T13:48:00\" itemprop=\"datePublished\">14 Jun 2018</time></span><h3 itemprop=\"name\">Cyber-Attacks Expected as World Cup Kicks Off</h3></a><p itemprop=\"articleBody\">Security pros suggest attacks at international sporting events could be the new normal.</p><div class=\"clear\"></div></div>\n",
       "<div class=\"webpage-item with-thumbnail\" itemscope=\"\" itemtype=\"http://schema.org/NewsArticle\"><a class=\"webpage-link\" href=\"https://www.infosecurity-magazine.com:443/news/military-colleges-aim-to-develop/\"><img alt=\"Military Colleges Aim to Develop Cyber Programs\" class=\"thumbnail\" data-src=\"//assets.infosecurity-magazine.com/webpage/thumb/b6a4c240-21f4-41f7-8851-522478424012.png\" src=\"//assets.infosecurity-magazine.com/webpage/thumb/default.jpg\"/><span class=\"pub-date\"><time datetime=\"2018-06-14T13:27:00\" itemprop=\"datePublished\">14 Jun 2018</time></span><h3 itemprop=\"name\">Military Colleges Aim to Develop Cyber Programs</h3></a><p itemprop=\"articleBody\">America's senior military colleges are collaborating to narrow the skills gap.</p><div class=\"clear\"></div></div>\n",
       "<div class=\"webpage-item with-thumbnail\" itemscope=\"\" itemtype=\"http://schema.org/NewsArticle\"><a class=\"webpage-link\" href=\"https://www.infosecurity-magazine.com:443/news/apple-update-police-cracking/\"><img alt=\"Apple Update Will Hamper Police Device Crackers\" class=\"thumbnail\" data-src=\"//assets.infosecurity-magazine.com/webpage/thumb/ec4ed349-72f0-4b9e-b4ba-b2d7a7a269a1.jpg\" src=\"//assets.infosecurity-magazine.com/webpage/thumb/default.jpg\"/><span class=\"pub-date\"><time datetime=\"2018-06-14T09:59:00\" itemprop=\"datePublished\">14 Jun 2018</time></span><h3 itemprop=\"name\">Apple Update Will Hamper Police Device Crackers</h3></a><p itemprop=\"articleBody\">Latest iOS patches will prevent access to phone via USB after one hour</p><div class=\"clear\"></div></div>\n",
       "<div class=\"webpage-item with-thumbnail\" itemscope=\"\" itemtype=\"http://schema.org/NewsArticle\"><a class=\"webpage-link\" href=\"https://www.infosecurity-magazine.com:443/news/army-boss-transport-infrastructure/\"><img alt=\"Army Boss: Transport Infrastructure at Risk of Cyber-Attack\" class=\"thumbnail\" data-src=\"//assets.infosecurity-magazine.com/webpage/thumb/c21c423b-a5fc-40fd-8dbd-c061c761e540.jpg\" src=\"//assets.infosecurity-magazine.com/webpage/thumb/default.jpg\"/><span class=\"pub-date\"><time datetime=\"2018-06-14T09:18:00\" itemprop=\"datePublished\">14 Jun 2018</time></span><h3 itemprop=\"name\">Army Boss: Transport Infrastructure at Risk of Cyber-Attack</h3></a><p itemprop=\"articleBody\">CNI providers need more visibility and control, say experts</p><div class=\"clear\"></div></div>\n",
       "<div class=\"webpage-item with-thumbnail\" itemscope=\"\" itemtype=\"http://schema.org/NewsArticle\"><a class=\"webpage-link\" href=\"https://www.infosecurity-magazine.com:443/news/european-lawmakers-vote-ban/\"><img alt=\"European Lawmakers Vote to Ban Kaspersky Lab Products\" class=\"thumbnail\" data-src=\"//assets.infosecurity-magazine.com/webpage/thumb/6f698f53-cb5b-4634-b355-db9eef5a4ca6.jpg\" src=\"//assets.infosecurity-magazine.com/webpage/thumb/default.jpg\"/><span class=\"pub-date\"><time datetime=\"2018-06-14T08:52:00\" itemprop=\"datePublished\">14 Jun 2018</time></span><h3 itemprop=\"name\">European Lawmakers Vote to Ban Kaspersky Lab Products</h3></a><p itemprop=\"articleBody\">Resolution forces firm to suspend collaboration with Europol </p><div class=\"clear\"></div></div>\n",
       "<div class=\"webpage-item with-thumbnail\" itemscope=\"\" itemtype=\"http://schema.org/NewsArticle\"><a class=\"webpage-link\" href=\"https://www.infosecurity-magazine.com:443/news/nextgen-cybersecurity-for-trucking/\"><img alt=\"Next-Gen Cybersecurity for Trucking\" class=\"thumbnail\" data-src=\"//assets.infosecurity-magazine.com/webpage/thumb/e851f192-4a5d-44af-a15f-f063707a9d47.jpg\" src=\"//assets.infosecurity-magazine.com/webpage/thumb/default.jpg\"/><span class=\"pub-date\"><time datetime=\"2018-06-13T14:57:00\" itemprop=\"datePublished\">13 Jun 2018</time></span><h3 itemprop=\"name\">Next-Gen Cybersecurity for Trucking</h3></a><p itemprop=\"articleBody\">Students are working to develop solutions to secure transportation industry.</p><div class=\"clear\"></div></div>\n",
       "<div class=\"webpage-item with-thumbnail\" itemscope=\"\" itemtype=\"http://schema.org/NewsArticle\"><a class=\"webpage-link\" href=\"https://www.infosecurity-magazine.com:443/news/email-threats-increase-impact/\"><img alt=\"Email Threats Increase, Impact Productivity\" class=\"thumbnail\" data-src=\"//assets.infosecurity-magazine.com/webpage/thumb/c4fd1b1f-fed3-4a71-b668-c779b8e7487d.jpg\" src=\"//assets.infosecurity-magazine.com/webpage/thumb/default.jpg\"/><span class=\"pub-date\"><time datetime=\"2018-06-13T14:29:00\" itemprop=\"datePublished\">13 Jun 2018</time></span><h3 itemprop=\"name\">Email Threats Increase, Impact Productivity</h3></a><p itemprop=\"articleBody\">Ransomware and phishing attempts remain a top concern for businesses.</p><div class=\"clear\"></div></div>\n",
       "<div class=\"webpage-item with-thumbnail\" itemscope=\"\" itemtype=\"http://schema.org/NewsArticle\"><a class=\"webpage-link\" href=\"https://www.infosecurity-magazine.com:443/news/cryptomining-malware-tops-charts/\"><img alt=\"Crypto-Mining Malware Tops Charts, Targets Apps\" class=\"thumbnail\" data-src=\"//assets.infosecurity-magazine.com/webpage/thumb/19695145-dc56-4b45-aedf-e5cbf673d348.jpg\" src=\"//assets.infosecurity-magazine.com/webpage/thumb/default.jpg\"/><span class=\"pub-date\"><time datetime=\"2018-06-13T13:52:00\" itemprop=\"datePublished\">13 Jun 2018</time></span><h3 itemprop=\"name\">Crypto-Mining Malware Tops Charts, Targets Apps</h3></a><p itemprop=\"articleBody\">Crypto-mining malware remains the top choice for hackers and works its way into mobile apps.</p><div class=\"clear\"></div></div>\n",
       "<div class=\"webpage-item with-thumbnail\" itemscope=\"\" itemtype=\"http://schema.org/NewsArticle\"><a class=\"webpage-link\" href=\"https://www.infosecurity-magazine.com:443/news/ai-could-improve-legal-firms/\"><img alt=\"AI Could Improve Legal Firms’ Efficiency by 50%\" class=\"thumbnail\" data-src=\"//assets.infosecurity-magazine.com/webpage/thumb/f5405c0b-b5ce-4cdf-8324-4db56697a58e.jpg\" src=\"//assets.infosecurity-magazine.com/webpage/thumb/default.jpg\"/><span class=\"pub-date\"><time datetime=\"2018-06-13T09:45:00\" itemprop=\"datePublished\">13 Jun 2018</time></span><h3 itemprop=\"name\">AI Could Improve Legal Firms’ Efficiency by 50%</h3></a><p itemprop=\"articleBody\">AI tech has potential to “completely transform” due diligence work</p><div class=\"clear\"></div></div>\n",
       "<div class=\"webpage-item with-thumbnail\" itemscope=\"\" itemtype=\"http://schema.org/NewsArticle\"><a class=\"webpage-link\" href=\"https://www.infosecurity-magazine.com:443/news/patch-tuesday-brings-fixes-for/\"><img alt=\"Patch Tuesday Brings Fixes for Adobe, Spectre\" class=\"thumbnail\" data-src=\"//assets.infosecurity-magazine.com/webpage/thumb/0af89a6c-06dc-4e0f-8b9a-d5170843ffe7.jpg\" src=\"//assets.infosecurity-magazine.com/webpage/thumb/default.jpg\"/><span class=\"pub-date\"><time datetime=\"2018-06-13T09:11:00\" itemprop=\"datePublished\">13 Jun 2018</time></span><h3 itemprop=\"name\">Patch Tuesday Brings Fixes for Adobe, Spectre</h3></a><p itemprop=\"articleBody\">Another busy month for IT admins</p><div class=\"clear\"></div></div>\n",
       "<div class=\"webpage-item with-thumbnail\" itemscope=\"\" itemtype=\"http://schema.org/NewsArticle\"><a class=\"webpage-link\" href=\"https://www.infosecurity-magazine.com:443/news/dixons-carphone-breach-hits-59m/\"><img alt=\"Dixons Carphone Breach Hits 5.9 Million Cards\" class=\"thumbnail\" data-src=\"//assets.infosecurity-magazine.com/webpage/thumb/923f368d-ab0c-4750-b91c-9eb0371b656d.jpg\" src=\"//assets.infosecurity-magazine.com/webpage/thumb/default.jpg\"/><span class=\"pub-date\"><time datetime=\"2018-06-13T08:45:00\" itemprop=\"datePublished\">13 Jun 2018</time></span><h3 itemprop=\"name\">Dixons Carphone Breach Hits 5.9 Million Cards</h3></a><p itemprop=\"articleBody\">UK retailer reports hackers also accessed personal data on 1.2 million customers</p><div class=\"clear\"></div></div>\n",
       "</div>\n",
       "<div class=\"pagination\">\n",
       "<span>Newer</span><span>1</span><a href=\"https://www.infosecurity-magazine.com:443/news/page-2/\">2</a><a href=\"https://www.infosecurity-magazine.com:443/news/page-3/\">3</a><a href=\"https://www.infosecurity-magazine.com:443/news/page-4/\">4</a><a href=\"https://www.infosecurity-magazine.com:443/news/page-5/\">5</a><a href=\"https://www.infosecurity-magazine.com:443/news/page-6/\">6</a><a href=\"https://www.infosecurity-magazine.com:443/news/page-2/\" rel=\"next\">Older</a>\n",
       "</div>\n",
       "</div>\n",
       "<div class=\"col-1-3 col-right\">\n",
       "<div class=\"dfp \" data-ad-sizes=\"[300,250]\" id=\"dfp-ad-85107183-fd44-4740-b3ed-c8539b5122ac\" style=\"display: none;\"></div>\n",
       "<div class=\"why-not-watch\">\n",
       "<h2>Why Not Watch?</h2>\n",
       "<div class=\"webinar wnw-webinar\" data-height-group=\"suggested-webinar\"><a class=\"wrapper-link\" href=\"https://www.infosecurity-magazine.com:443/webinars/component-security-trials/\"><span><img alt=\"The Trials &amp; Tribulations of Component Security: Are Organizations at Risk?\" src=\"//assets.infosecurity-magazine.com/webpage/rect/4e07bb3a-5065-4eb5-a9b3-1c6de4c94f10.jpg\"/></span><div class=\"content-meta\"><time datetime=\"2018-06-21T17:00:00\">21 Jun 2018, 13:00 EDT, 10:00 PDT</time><time datetime=\"2018-06-21T18:00:00\"></time></div><span class=\"title-link\">The Trials &amp; Tribulations of Component Security: Are Organizations at Risk?</span></a></div><div class=\"webinar webinar-right wnw-webinar\" data-height-group=\"suggested-webinar\"><a class=\"wrapper-link\" href=\"https://www.infosecurity-magazine.com:443/webinars/hunting-for-cryptocurrency/\"><span><img alt=\"Crypto Crime: Hunting for Cryptocurrency Mining in Your Enterprise\" src=\"//assets.infosecurity-magazine.com/webpage/rect/default.jpg\"/></span><div class=\"content-meta\"><time datetime=\"2018-07-03T14:00:00\">3 Jul 2018, 15:00 BST, 10:00 EDT</time><time datetime=\"2018-07-03T15:00:00\"></time></div><span class=\"title-link\">Crypto Crime: Hunting for Cryptocurrency Mining in Your Enterprise</span></a></div><div class=\"webinar wnw-webinar\" data-height-group=\"suggested-webinar\"><a class=\"wrapper-link\" href=\"https://www.infosecurity-magazine.com:443/webinars/the-time-for-intentbased-security/\"><span><img alt=\"The Time for Intent-Based Security is Here\" src=\"//assets.infosecurity-magazine.com/webpage/rect/default.jpg\"/></span><div class=\"content-meta\"><time datetime=\"2018-07-26T14:00:00\">26 Jul 2018, 15:00 BST, 10:00 EDT</time><time datetime=\"2018-07-26T15:00:00\"></time></div><span class=\"title-link\">The Time for Intent-Based Security is Here</span></a></div><div class=\"webinar webinar-right wnw-webinar\" data-height-group=\"suggested-webinar\"><a class=\"wrapper-link\" href=\"https://www.infosecurity-magazine.com:443/webinars/enable-shadow-iaas/\"><span><img alt=\"Enabling IaaS in your Enterprise, and Security and Visibility in Azure and AWS\" src=\"//assets.infosecurity-magazine.com/webpage/rect/110cddc6-d1e4-4d26-a5ee-5309c2861c9c.jpg\"/></span><div class=\"content-meta\"><time datetime=\"2018-05-24T17:00:00\">24 May 2018</time><time datetime=\"2018-05-24T18:00:00\"></time></div><span class=\"title-link\">Enabling IaaS in your Enterprise, and Security and Visibility in Azure and AWS</span></a></div>\n",
       "<div class=\"clear\"></div>\n",
       "</div>\n",
       "<div class=\"dfp \" data-ad-sizes=\"[300,250]\" id=\"dfp-ad-2b6330b2-dd92-411f-946c-7ca19957f2a8\" style=\"display: none;\"></div>\n",
       "<div class=\"whats-hot\">\n",
       "<h2>What’s Hot on Infosecurity Magazine?</h2>\n",
       "<ul class=\"whats-hot-tabs\">\n",
       "<li class=\"active\" data-tab-value=\"read\" id=\"cphContent_ismWhatsHot_liRead\"><a href=\"javascript:;\">Read</a></li>\n",
       "<li data-tab-value=\"shared\" id=\"cphContent_ismWhatsHot_liShared\"><a href=\"javascript:;\">Shared</a></li>\n",
       "<li data-tab-value=\"watched\" id=\"cphContent_ismWhatsHot_liWatched\"><a href=\"javascript:;\">Watched</a></li>\n",
       "<li data-tab-value=\"editors\" id=\"cphContent_ismWhatsHot_liEditors\"><a href=\"javascript:;\">Editor's Choice</a></li>\n",
       "</ul>\n",
       "<div class=\"whats-hot-stories\">\n",
       "<div class=\"tab-panel active\" data-tab-value=\"read\" style=\"display: block;\">\n",
       "<div class=\"col-1-3 col-left\"><div class=\"content-item content-sml whats-hot-item colour-news\"><a class=\"wrapper-link\" href=\"https://www.infosecurity-magazine.com:443/news/european-lawmakers-vote-ban/\"><span class=\"calendar-date\"><span class=\"day\">1</span></span><div class=\"content-info\"><div class=\"content-meta\"><time datetime=\"2018-06-14T08:52:00\">14 Jun 2018</time> <span class=\"content-type\">News</span></div><h3 class=\"content-headline\">European Lawmakers Vote to Ban Kaspersky Lab Products</h3></div><div class=\"clear\"></div></a></div><div class=\"content-item content-sml whats-hot-item colour-news\"><a class=\"wrapper-link\" href=\"https://www.infosecurity-magazine.com:443/news/army-boss-transport-infrastructure/\"><span class=\"calendar-date\"><span class=\"day\">2</span></span><div class=\"content-info\"><div class=\"content-meta\"><time datetime=\"2018-06-14T09:18:00\">14 Jun 2018</time> <span class=\"content-type\">News</span></div><h3 class=\"content-headline\">Army Boss: Transport Infrastructure at Risk of Cyber-Attack</h3></div><div class=\"clear\"></div></a></div><div class=\"content-item content-sml whats-hot-item colour-news\"><a class=\"wrapper-link\" href=\"https://www.infosecurity-magazine.com:443/news/email-threats-increase-impact/\"><span class=\"calendar-date\"><span class=\"day\">3</span></span><div class=\"content-info\"><div class=\"content-meta\"><time datetime=\"2018-06-13T14:29:00\">13 Jun 2018</time> <span class=\"content-type\">News</span></div><h3 class=\"content-headline\">Email Threats Increase, Impact Productivity</h3></div><div class=\"clear\"></div></a></div></div><div class=\"col-1-3 col-right\"><div class=\"content-item content-sml whats-hot-item colour-news\"><a class=\"wrapper-link\" href=\"https://www.infosecurity-magazine.com:443/news/bank-of-chile-suffers-10m-loss/\"><span class=\"calendar-date\"><span class=\"day\">4</span></span><div class=\"content-info\"><div class=\"content-meta\"><time datetime=\"2018-06-12T16:10:00\">12 Jun 2018</time> <span class=\"content-type\">News</span></div><h3 class=\"content-headline\">Bank of Chile Suffers $10m Loss</h3></div><div class=\"clear\"></div></a></div><div class=\"content-item content-sml whats-hot-item colour-news\"><a class=\"wrapper-link\" href=\"https://www.infosecurity-magazine.com:443/news/nextgen-cybersecurity-for-trucking/\"><span class=\"calendar-date\"><span class=\"day\">5</span></span><div class=\"content-info\"><div class=\"content-meta\"><time datetime=\"2018-06-13T14:57:00\">13 Jun 2018</time> <span class=\"content-type\">News</span></div><h3 class=\"content-headline\">Next-Gen Cybersecurity for Trucking</h3></div><div class=\"clear\"></div></a></div><div class=\"content-item content-sml whats-hot-item colour-news\"><a class=\"wrapper-link\" href=\"https://www.infosecurity-magazine.com:443/news/apple-update-police-cracking/\"><span class=\"calendar-date\"><span class=\"day\">6</span></span><div class=\"content-info\"><div class=\"content-meta\"><time datetime=\"2018-06-14T09:59:00\">14 Jun 2018</time> <span class=\"content-type\">News</span></div><h3 class=\"content-headline\">Apple Update Will Hamper Police Device Crackers</h3></div><div class=\"clear\"></div></a></div></div>\n",
       "<div class=\"clear\"></div>\n",
       "</div>\n",
       "<div class=\"tab-panel\" data-tab-value=\"shared\">\n",
       "<div class=\"col-1-3 col-left\"><div class=\"content-item content-sml whats-hot-item colour-news\"><a class=\"wrapper-link\" href=\"https://www.infosecurity-magazine.com:443/news/23000-individuals-affected-in/\"><span class=\"calendar-date\"><span class=\"day\">1</span></span><div class=\"content-info\"><div class=\"content-meta\"><time datetime=\"2018-06-14T16:44:00\">14 Jun 2018</time> <span class=\"content-type\">News</span></div><h3 class=\"content-headline\">23,000 Individuals Affected in HealthEquity Breach</h3></div><div class=\"clear\"></div></a></div><div class=\"content-item content-sml whats-hot-item colour-news\"><a class=\"wrapper-link\" href=\"https://www.infosecurity-magazine.com:443/news/cyber-attacks-expected-as-world/\"><span class=\"calendar-date\"><span class=\"day\">2</span></span><div class=\"content-info\"><div class=\"content-meta\"><time datetime=\"2018-06-14T13:48:00\">14 Jun 2018</time> <span class=\"content-type\">News</span></div><h3 class=\"content-headline\">Cyber-Attacks Expected as World Cup Kicks Off</h3></div><div class=\"clear\"></div></a></div><div class=\"content-item content-sml whats-hot-item colour-news\"><a class=\"wrapper-link\" href=\"https://www.infosecurity-magazine.com:443/news/military-colleges-aim-to-develop/\"><span class=\"calendar-date\"><span class=\"day\">3</span></span><div class=\"content-info\"><div class=\"content-meta\"><time datetime=\"2018-06-14T13:27:00\">14 Jun 2018</time> <span class=\"content-type\">News</span></div><h3 class=\"content-headline\">Military Colleges Aim to Develop Cyber Programs</h3></div><div class=\"clear\"></div></a></div></div><div class=\"col-1-3 col-right\"><div class=\"content-item content-sml whats-hot-item colour-features\"><a class=\"wrapper-link\" href=\"https://www.infosecurity-magazine.com:443/blogs/dixons-carphone-breach-gdpr-whats/\"><span class=\"calendar-date\"><span class=\"day\">4</span></span><div class=\"content-info\"><div class=\"content-meta\"><time datetime=\"2018-06-14T11:30:00\">14 Jun 2018</time> <span class=\"content-type\">Blog</span></div><h3 class=\"content-headline\">Dixons Carphone Breach &amp; GDPR: What’s Next?</h3></div><div class=\"clear\"></div></a></div><div class=\"content-item content-sml whats-hot-item colour-news\"><a class=\"wrapper-link\" href=\"https://www.infosecurity-magazine.com:443/news/apple-update-police-cracking/\"><span class=\"calendar-date\"><span class=\"day\">5</span></span><div class=\"content-info\"><div class=\"content-meta\"><time datetime=\"2018-06-14T09:59:00\">14 Jun 2018</time> <span class=\"content-type\">News</span></div><h3 class=\"content-headline\">Apple Update Will Hamper Police Device Crackers</h3></div><div class=\"clear\"></div></a></div><div class=\"content-item content-sml whats-hot-item colour-news\"><a class=\"wrapper-link\" href=\"https://www.infosecurity-magazine.com:443/news/army-boss-transport-infrastructure/\"><span class=\"calendar-date\"><span class=\"day\">6</span></span><div class=\"content-info\"><div class=\"content-meta\"><time datetime=\"2018-06-14T09:18:00\">14 Jun 2018</time> <span class=\"content-type\">News</span></div><h3 class=\"content-headline\">Army Boss: Transport Infrastructure at Risk of Cyber-Attack</h3></div><div class=\"clear\"></div></a></div></div>\n",
       "<div class=\"clear\"></div>\n",
       "</div>\n",
       "<div class=\"tab-panel\" data-tab-value=\"watched\">\n",
       "<div class=\"col-1-3 col-left\"><div class=\"content-item content-sml whats-hot-item colour-webinars\"><a class=\"wrapper-link\" href=\"https://www.infosecurity-magazine.com:443/webinars/hunting-for-cryptocurrency/\"><span class=\"calendar-date\"><span class=\"day\">1</span></span><div class=\"content-info\"><div class=\"content-meta\"><time datetime=\"2018-07-03T14:00:00\">3 Jul 2018, 15:00 BST, 10:00 EDT</time><time datetime=\"2018-07-03T15:00:00\"></time> <span class=\"content-type\">Webinar</span></div><h3 class=\"content-headline\">Crypto Crime: Hunting for Cryptocurrency Mining in Your Enterprise</h3></div><div class=\"clear\"></div></a></div><div class=\"content-item content-sml whats-hot-item colour-webinars\"><a class=\"wrapper-link\" href=\"https://www.infosecurity-magazine.com:443/webinars/component-security-trials/\"><span class=\"calendar-date\"><span class=\"day\">2</span></span><div class=\"content-info\"><div class=\"content-meta\"><time datetime=\"2018-06-21T17:00:00\">21 Jun 2018, 13:00 EDT, 10:00 PDT</time><time datetime=\"2018-06-21T18:00:00\"></time> <span class=\"content-type\">Webinar</span></div><h3 class=\"content-headline\">The Trials &amp; Tribulations of Component Security: Are Organizations at Risk?</h3></div><div class=\"clear\"></div></a></div><div class=\"content-item content-sml whats-hot-item colour-webinars\"><a class=\"wrapper-link\" href=\"https://www.infosecurity-magazine.com:443/webinars/how-to-tackle-risk-in-your-inbox/\"><span class=\"calendar-date\"><span class=\"day\">3</span></span><div class=\"content-info\"><div class=\"content-meta\"><time datetime=\"2018-07-12T14:00:00\">12 Jul 2018, 15:00 BST, 10:00 EDT</time><time datetime=\"2018-07-12T15:00:00\"></time> <span class=\"content-type\">Webinar</span></div><h3 class=\"content-headline\">Email Security: How to Tackle the Ongoing Risk in your Inbox</h3></div><div class=\"clear\"></div></a></div></div><div class=\"col-1-3 col-right\"><div class=\"content-item content-sml whats-hot-item colour-webinars\"><a class=\"wrapper-link\" href=\"https://www.infosecurity-magazine.com:443/webinars/post-gdpr-will-it-be-too-late-to/\"><span class=\"calendar-date\"><span class=\"day\">4</span></span><div class=\"content-info\"><div class=\"content-meta\"><time datetime=\"2018-06-26T14:00:00\">26 Jun 2018, 15:00 BST, 10:00 EDT</time><time datetime=\"2018-06-26T15:00:00\"></time> <span class=\"content-type\">Webinar</span></div><h3 class=\"content-headline\">Post GDPR, Will it be Too Late to Comply?</h3></div><div class=\"clear\"></div></a></div><div class=\"content-item content-sml whats-hot-item colour-webinars\"><a class=\"wrapper-link\" href=\"https://www.infosecurity-magazine.com:443/webinars/enable-shadow-iaas/\"><span class=\"calendar-date\"><span class=\"day\">5</span></span><div class=\"content-info\"><div class=\"content-meta\"><time datetime=\"2018-05-24T17:00:00\">24 May 2018</time><time datetime=\"2018-05-24T18:00:00\"></time> <span class=\"content-type\">Webinar</span></div><h3 class=\"content-headline\">Enabling IaaS in your Enterprise, and Security and Visibility in Azure and AWS</h3></div><div class=\"clear\"></div></a></div><div class=\"content-item content-sml whats-hot-item colour-webinars\"><a class=\"wrapper-link\" href=\"https://www.infosecurity-magazine.com:443/webinars/security-awareness-training/\"><span class=\"calendar-date\"><span class=\"day\">6</span></span><div class=\"content-info\"><div class=\"content-meta\"><time datetime=\"2018-05-10T17:00:00\">10 May 2018</time><time datetime=\"2018-05-10T18:00:00\"></time> <span class=\"content-type\">Webinar</span></div><h3 class=\"content-headline\">Best Practices and Future Direction of Security Awareness Training</h3></div><div class=\"clear\"></div></a></div></div>\n",
       "<div class=\"clear\"></div>\n",
       "</div>\n",
       "<div class=\"tab-panel\" data-tab-value=\"editors\">\n",
       "<div class=\"col-1-3 col-left\"><div class=\"content-item content-sml whats-hot-item colour-news\"><a class=\"wrapper-link\" href=\"https://www.infosecurity-magazine.com:443/news/belfast2018-avoid-mistakes-past/\"><span class=\"calendar-date\"><span class=\"day\">1</span></span><div class=\"content-info\"><div class=\"content-meta\"><time datetime=\"2018-05-09T12:44:00\">9 May 2018</time> <span class=\"content-type\">News</span></div><h3 class=\"content-headline\">#Belfast2018: We Must Avoid Security Mistakes of the Past, says Former GCHQ Director</h3></div><div class=\"clear\"></div></a></div><div class=\"content-item content-sml whats-hot-item colour-features\"><a class=\"wrapper-link\" href=\"https://www.infosecurity-magazine.com:443/opinions/smart-cities-tackle-cyber-attacks/\"><span class=\"calendar-date\"><span class=\"day\">2</span></span><div class=\"content-info\"><div class=\"content-meta\"><time datetime=\"2018-05-10T08:20:00\">10 May 2018</time> <span class=\"content-type\">Opinion</span></div><h3 class=\"content-headline\">Are Smart Cities Smart Enough to Tackle Cyber Attacks?</h3></div><div class=\"clear\"></div></a></div><div class=\"content-item content-sml whats-hot-item colour-features\"><a class=\"wrapper-link\" href=\"https://www.infosecurity-magazine.com:443/blogs/wannacry-again-prevent-it/\"><span class=\"calendar-date\"><span class=\"day\">3</span></span><div class=\"content-info\"><div class=\"content-meta\"><time datetime=\"2018-05-11T12:01:00\">11 May 2018</time> <span class=\"content-type\">Blog</span></div><h3 class=\"content-headline\">Don't WannaCry Again? Here's How to Prevent it </h3></div><div class=\"clear\"></div></a></div></div><div class=\"col-1-3 col-right\"><div class=\"content-item content-sml whats-hot-item colour-features\"><a class=\"wrapper-link\" href=\"https://www.infosecurity-magazine.com:443/interviews/rsac-video-interview-raj-samani/\"><span class=\"calendar-date\"><span class=\"day\">4</span></span><div class=\"content-info\"><div class=\"content-meta\"><time datetime=\"2018-05-14T13:07:00\">14 May 2018</time> <span class=\"content-type\">Interview</span></div><h3 class=\"content-headline\">#RSAC Video Interview: Raj Samani, Chief Scientist and Fellow, McAfee</h3></div><div class=\"clear\"></div></a></div><div class=\"content-item content-sml whats-hot-item colour-features\"><a class=\"wrapper-link\" href=\"https://www.infosecurity-magazine.com:443/opinions/artificial-intelligence/\"><span class=\"calendar-date\"><span class=\"day\">5</span></span><div class=\"content-info\"><div class=\"content-meta\"><time datetime=\"2018-05-14T08:30:00\">14 May 2018</time> <span class=\"content-type\">Opinion</span></div><h3 class=\"content-headline\">Whose Team Is Artificial Intelligence On: The Corporations or Hackers?</h3></div><div class=\"clear\"></div></a></div><div class=\"content-item content-sml whats-hot-item colour-features\"><a class=\"wrapper-link\" href=\"https://www.infosecurity-magazine.com:443/interviews/interview-daniel-dahinden-six/\"><span class=\"calendar-date\"><span class=\"day\">6</span></span><div class=\"content-info\"><div class=\"content-meta\"><time datetime=\"2018-05-15T09:01:00\">15 May 2018</time> <span class=\"content-type\">Interview</span></div><h3 class=\"content-headline\">Interview: Daniel Dahinden, Head Innovation &amp; Digital, SIX</h3></div><div class=\"clear\"></div></a></div></div>\n",
       "<div class=\"clear\"></div>\n",
       "</div>\n",
       "</div>\n",
       "</div>\n",
       "<input id=\"whatsHotActiveTab\" type=\"hidden\" value=\"read\"/>\n",
       "<div class=\"dfp \" data-ad-sizes=\"[300,250]\" id=\"dfp-ad-3518c66a-5a41-4907-b66b-859dd977bc04\" style=\"display: none;\"></div>\n",
       "</div>\n",
       "<div class=\"clear\"></div>\n",
       "</div>\n",
       "<script id=\"webpage-item-template\" type=\"text/x-handlebars-template\">\n",
       "        {{#each Webpages}}\n",
       "        <div class=\"webpage-item\">\n",
       "            <div class=\"pub-date\">{{DatePublish}}</div>\n",
       "            <h3><a href=\"{{UrlSlug}}\">{{Name}}</a></h3>\n",
       "        </div>\n",
       "        {{/each}}\n",
       "    </script>\n",
       "</div>\n",
       "<footer class=\"footer\">\n",
       "<div class=\"container\">\n",
       "<div class=\"footer-ad-col\">\n",
       "<div class=\"dfp leaderboard\" data-ad-sizes=\"[728,90]\" id=\"dfp-ad-a5d3bbd8-8668-4352-9da7-e99326619c19\" style=\"display: none;\"></div>\n",
       "<div class=\"footer-social-links\">\n",
       "<a class=\"fb\" href=\"https://www.facebook.com/pages/Infosecurity-Magazine/210560332330063\" target=\"_blank\"><i class=\"spricon-fb\"></i></a>\n",
       "<a class=\"tw\" href=\"https://twitter.com/InfosecurityMag\" target=\"_blank\"><i class=\"spricon-tw\"></i></a>\n",
       "<a class=\"gp\" href=\"https://plus.google.com/+InfosecurityMagazine/posts\" target=\"_blank\"><i class=\"spricon-gp\"></i></a>\n",
       "<a class=\"li\" href=\"http://www.linkedin.com/groups?gid=2035794&amp;trk=myg_ugrp_ovr\" target=\"_blank\"><i class=\"spricon-li\"></i></a>\n",
       "</div>\n",
       "<a class=\"infosecurity-group-logo\" href=\"http://www.infosec.co.uk/en/about/infosecurity-group/\" target=\"_blank\"><i class=\"spricon-group\"></i></a>\n",
       "<div class=\"clear\"></div>\n",
       "</div>\n",
       "<div class=\"footer-links-col\">\n",
       "<div class=\"left-links\">\n",
       "<ul>\n",
       "<li class=\"list-header\">The Magazine</li>\n",
       "<li><a href=\"https://www.infosecurity-magazine.com:443/the-magazine/\">About Infosecurity</a></li>\n",
       "<li><a href=\"https://www.infosecurity-magazine.com:443/subscription/\">Subscription</a></li>\n",
       "<li><a href=\"https://www.infosecurity-magazine.com:443/meet-the-team/\">Meet the Team</a></li>\n",
       "<li><a href=\"https://www.infosecurity-magazine.com:443/contacts/\">Contact Us</a></li>\n",
       "</ul>\n",
       "</div>\n",
       "<div class=\"right-links\">\n",
       "<ul>\n",
       "<li class=\"list-header\">Advertisers</li>\n",
       "<li><a href=\"https://www.infosecurity-magazine.com:443/mediapack/\">Media Pack</a></li>\n",
       "</ul>\n",
       "<ul>\n",
       "<li class=\"list-header\">Contributors</li>\n",
       "<li><a href=\"https://www.infosecurity-magazine.com:443/forward-features/\">Forward Features</a></li>\n",
       "<li><a href=\"https://www.infosecurity-magazine.com:443/op-ed/\">Op-ed</a></li>\n",
       "<li><a href=\"https://www.infosecurity-magazine.com:443/nextgen-infosec-submission/\">Next-Gen Submission</a></li>\n",
       "</ul>\n",
       "</div>\n",
       "</div>\n",
       "<div class=\"copyright-notices\">\n",
       "<ul class=\"copyright-links\">\n",
       "<li class=\"copyright-info\">Copyright © 2018 Reed Exhibitions Ltd.</li>\n",
       "<li><a href=\"https://www.infosecurity-magazine.com:443/terms-and-conditions/\">Terms and Conditions</a></li>\n",
       "<li><a href=\"https://www.infosecurity-magazine.com:443/privacy-policy/\">Privacy Policy</a></li>\n",
       "<li><a href=\"https://www.infosecurity-magazine.com:443/intellectual-property-statement/\">Intellectual property statement</a></li>\n",
       "<li><a href=\"https://www.infosecurity-magazine.com:443/cookies/\">Use of Cookies</a></li>\n",
       "<li><a href=\"https://www.infosecurity-magazine.com:443/sitemap/\">Sitemap</a></li>\n",
       "<li class=\"reed-expo\"><a href=\"http://www.reedexpo.com/\" target=\"_blank\"><i class=\"spricon-reedex\"></i></a></li>\n",
       "</ul>\n",
       "</div>\n",
       "</div>\n",
       "</footer>\n",
       "</div>\n",
       "</div>\n",
       "<div id=\"loadingPane\" style=\"background: rgba(0,0,0,0.8); width: 100%; height: 100%; position: fixed; z-index: 1000000; top: 0; left: 0; display: none;filter: progid:DXImageTransform.Microsoft.gradient(GradientType=0,startColorstr='#4c000000', endColorstr='#4c000000');\">\n",
       "<div style=\"width: 240px; position: fixed; background: #000; top: 0; left: 50%; margin-left: -140px; padding: 20px; z-index: 1000001; border: 1px solid #fff; border-top: none; color: #fff; text-align: center; font-size:1.7143em;line-height:1.3333em;\">\n",
       "                Please wait…\n",
       "            </div>\n",
       "</div>\n",
       "<div class=\"refresh-ads\"></div>\n",
       "<script type=\"text/javascript\">\n",
       "            var gptZone = 'news';\n",
       "            var gptTopics = [];\n",
       "        </script>\n",
       "<script src=\"//res.infosecurity-magazine.com/js-0039/underscore.min.js\" type=\"text/javascript\"></script>\n",
       "<script src=\"//res.infosecurity-magazine.com/js-0039/unveil.js\" type=\"text/javascript\"></script>\n",
       "<script src=\"//res.infosecurity-magazine.com/js-0039/ticker.min.js\" type=\"text/javascript\"></script>\n",
       "<script src=\"//res.infosecurity-magazine.com/js-0039/ism.js\" type=\"text/javascript\"></script>\n",
       "<script src=\"//res.infosecurity-magazine.com/js-0039/ism/ism.whatshot.js\" type=\"text/javascript\"></script>\n",
       "<script type=\"text/javascript\">\n",
       "            highlightNavigation('colour-news');\n",
       "        </script>\n",
       "</div>\n",
       "</body>\n",
       "</html>"
      ]
     },
     "execution_count": 5,
     "metadata": {},
     "output_type": "execute_result"
    }
   ],
   "source": [
    "soup"
   ]
  },
  {
   "cell_type": "code",
   "execution_count": null,
   "metadata": {
    "collapsed": true
   },
   "outputs": [],
   "source": [
    "###Cyber News Scrapping"
   ]
  },
  {
   "cell_type": "code",
   "execution_count": 217,
   "metadata": {
    "collapsed": true
   },
   "outputs": [],
   "source": [
    "#Set up splinter\n",
    "executable_path = {'executable_path': '/usr/local/bin/chromedriver'}\n",
    "browser = Browser('chrome', **executable_path, headless=False)"
   ]
  },
  {
   "cell_type": "code",
   "execution_count": 218,
   "metadata": {
    "collapsed": true
   },
   "outputs": [],
   "source": [
    "#Splinter visit url\n",
    "url2 = \"https://www.infosecurity-magazine.com/news/\"\n",
    "browser.visit(url2)"
   ]
  },
  {
   "cell_type": "code",
   "execution_count": 219,
   "metadata": {
    "collapsed": true
   },
   "outputs": [],
   "source": [
    "#Splinter clicks on button and waits 5 seconds for page to load\n",
    "browser.click_link_by_partial_text('OLDER')\n",
    "time.sleep(5)"
   ]
  },
  {
   "cell_type": "code",
   "execution_count": 220,
   "metadata": {
    "collapsed": true
   },
   "outputs": [],
   "source": [
    "#Get new HTML text after browser.click\n",
    "html2 = browser.html\n",
    "soup2 = BeautifulSoup(html2, 'html.parser')"
   ]
  },
  {
   "cell_type": "code",
   "execution_count": 221,
   "metadata": {},
   "outputs": [
    {
     "data": {
      "text/plain": [
       "'/spaceimages/images/mediumsize/PIA19964_ip.jpg'"
      ]
     },
     "execution_count": 221,
     "metadata": {},
     "output_type": "execute_result"
    }
   ],
   "source": [
    "#Use BeautifulSoup to find featured image link\n",
    "result = soup2.body.find('div', class_=\"fancybox-inner fancybox-skin fancybox-dark-skin fancybox-dark-skin-open\")\n",
    "result = result.find('img').attrs['src']\n",
    "result"
   ]
  },
  {
   "cell_type": "code",
   "execution_count": 222,
   "metadata": {
    "collapsed": true
   },
   "outputs": [],
   "source": [
    "featured_image_url = result"
   ]
  },
  {
   "cell_type": "code",
   "execution_count": null,
   "metadata": {
    "collapsed": true
   },
   "outputs": [],
   "source": [
    "###Mars Weather Twitter"
   ]
  },
  {
   "cell_type": "code",
   "execution_count": 224,
   "metadata": {
    "collapsed": true
   },
   "outputs": [],
   "source": [
    "#Get HTML text\n",
    "url3 = \"https://twitter.com/marswxreport?lang=en\"\n",
    "html3 = requests.get(url3)\n",
    "soup3 = BeautifulSoup(html3.text, 'html.parser')\n"
   ]
  },
  {
   "cell_type": "code",
   "execution_count": 225,
   "metadata": {},
   "outputs": [
    {
     "data": {
      "text/plain": [
       "'Sol 2047 (May 10, 2018), Sunny, high 3C/37F, low -71C/-95F, pressure at 7.33 hPa, daylight 05:22-17:20'"
      ]
     },
     "execution_count": 225,
     "metadata": {},
     "output_type": "execute_result"
    }
   ],
   "source": [
    "#BeautifulSoup to find weather tweet text\n",
    "result3 = soup3.body.find('div', class_=\"js-tweet-text-container\").find(\"p\").text.strip()\n",
    "result3"
   ]
  },
  {
   "cell_type": "code",
   "execution_count": 226,
   "metadata": {
    "collapsed": true
   },
   "outputs": [],
   "source": [
    "mars_weather = result3"
   ]
  },
  {
   "cell_type": "code",
   "execution_count": null,
   "metadata": {
    "collapsed": true
   },
   "outputs": [],
   "source": [
    "###Mars Facts"
   ]
  },
  {
   "cell_type": "code",
   "execution_count": 229,
   "metadata": {},
   "outputs": [
    {
     "data": {
      "text/plain": [
       "[                      0                              1\n",
       " 0  Equatorial Diameter:                       6,792 km\n",
       " 1       Polar Diameter:                       6,752 km\n",
       " 2                 Mass:  6.42 x 10^23 kg (10.7% Earth)\n",
       " 3                Moons:            2 (Phobos & Deimos)\n",
       " 4       Orbit Distance:       227,943,824 km (1.52 AU)\n",
       " 5         Orbit Period:           687 days (1.9 years)\n",
       " 6  Surface Temperature:                  -153 to 20 °C\n",
       " 7         First Record:              2nd millennium BC\n",
       " 8          Recorded By:           Egyptian astronomers]"
      ]
     },
     "execution_count": 229,
     "metadata": {},
     "output_type": "execute_result"
    }
   ],
   "source": [
    "#Use pandas to fetch HTML table data\n",
    "url4 = \"http://space-facts.com/mars/\"\n",
    "tables = pd.read_html(url4)\n",
    "tables"
   ]
  },
  {
   "cell_type": "code",
   "execution_count": 347,
   "metadata": {},
   "outputs": [
    {
     "data": {
      "text/html": [
       "<div>\n",
       "<style>\n",
       "    .dataframe thead tr:only-child th {\n",
       "        text-align: right;\n",
       "    }\n",
       "\n",
       "    .dataframe thead th {\n",
       "        text-align: left;\n",
       "    }\n",
       "\n",
       "    .dataframe tbody tr th {\n",
       "        vertical-align: top;\n",
       "    }\n",
       "</style>\n",
       "<table border=\"1\" class=\"dataframe\">\n",
       "  <thead>\n",
       "    <tr style=\"text-align: right;\">\n",
       "      <th></th>\n",
       "      <th>Parameter</th>\n",
       "      <th>Value</th>\n",
       "    </tr>\n",
       "  </thead>\n",
       "  <tbody>\n",
       "    <tr>\n",
       "      <th>0</th>\n",
       "      <td>Equatorial Diameter:</td>\n",
       "      <td>6,792 km</td>\n",
       "    </tr>\n",
       "    <tr>\n",
       "      <th>1</th>\n",
       "      <td>Polar Diameter:</td>\n",
       "      <td>6,752 km</td>\n",
       "    </tr>\n",
       "    <tr>\n",
       "      <th>2</th>\n",
       "      <td>Mass:</td>\n",
       "      <td>6.42 x 10^23 kg (10.7% Earth)</td>\n",
       "    </tr>\n",
       "    <tr>\n",
       "      <th>3</th>\n",
       "      <td>Moons:</td>\n",
       "      <td>2 (Phobos &amp; Deimos)</td>\n",
       "    </tr>\n",
       "    <tr>\n",
       "      <th>4</th>\n",
       "      <td>Orbit Distance:</td>\n",
       "      <td>227,943,824 km (1.52 AU)</td>\n",
       "    </tr>\n",
       "    <tr>\n",
       "      <th>5</th>\n",
       "      <td>Orbit Period:</td>\n",
       "      <td>687 days (1.9 years)</td>\n",
       "    </tr>\n",
       "    <tr>\n",
       "      <th>6</th>\n",
       "      <td>Surface Temperature:</td>\n",
       "      <td>-153 to 20 °C</td>\n",
       "    </tr>\n",
       "    <tr>\n",
       "      <th>7</th>\n",
       "      <td>First Record:</td>\n",
       "      <td>2nd millennium BC</td>\n",
       "    </tr>\n",
       "    <tr>\n",
       "      <th>8</th>\n",
       "      <td>Recorded By:</td>\n",
       "      <td>Egyptian astronomers</td>\n",
       "    </tr>\n",
       "  </tbody>\n",
       "</table>\n",
       "</div>"
      ],
      "text/plain": [
       "              Parameter                          Value\n",
       "0  Equatorial Diameter:                       6,792 km\n",
       "1       Polar Diameter:                       6,752 km\n",
       "2                 Mass:  6.42 x 10^23 kg (10.7% Earth)\n",
       "3                Moons:            2 (Phobos & Deimos)\n",
       "4       Orbit Distance:       227,943,824 km (1.52 AU)\n",
       "5         Orbit Period:           687 days (1.9 years)\n",
       "6  Surface Temperature:                  -153 to 20 °C\n",
       "7         First Record:              2nd millennium BC\n",
       "8          Recorded By:           Egyptian astronomers"
      ]
     },
     "execution_count": 347,
     "metadata": {},
     "output_type": "execute_result"
    }
   ],
   "source": [
    "df = tables[0]\n",
    "df = df.rename(columns={0:\"Parameter\", 1: \"Value\"})\n",
    "df"
   ]
  },
  {
   "cell_type": "code",
   "execution_count": 382,
   "metadata": {},
   "outputs": [
    {
     "name": "stdout",
     "output_type": "stream",
     "text": [
      "Cerberus Hemisphere Enhanced\n",
      "http://astropedia.astrogeology.usgs.gov/download/Mars/Viking/cerberus_enhanced.tif/full.jpg\n",
      "Schiaparelli Hemisphere Enhanced\n",
      "http://astropedia.astrogeology.usgs.gov/download/Mars/Viking/schiaparelli_enhanced.tif/full.jpg\n",
      "Syrtis Major Hemisphere Enhanced\n",
      "http://astropedia.astrogeology.usgs.gov/download/Mars/Viking/syrtis_major_enhanced.tif/full.jpg\n",
      "Valles Marineris Hemisphere Enhanced\n",
      "http://astropedia.astrogeology.usgs.gov/download/Mars/Viking/valles_marineris_enhanced.tif/full.jpg\n"
     ]
    }
   ],
   "source": [
    "for x in hemisphere_image_urls:\n",
    "    for key, value in x.items():\n",
    "        print(value)"
   ]
  },
  {
   "cell_type": "code",
   "execution_count": 373,
   "metadata": {},
   "outputs": [
    {
     "data": {
      "text/plain": [
       "[{'img_url': 'http://astropedia.astrogeology.usgs.gov/download/Mars/Viking/cerberus_enhanced.tif/full.jpg',\n",
       "  'title': 'Cerberus Hemisphere Enhanced'},\n",
       " {'img_url': 'http://astropedia.astrogeology.usgs.gov/download/Mars/Viking/schiaparelli_enhanced.tif/full.jpg',\n",
       "  'title': 'Schiaparelli Hemisphere Enhanced'},\n",
       " {'img_url': 'http://astropedia.astrogeology.usgs.gov/download/Mars/Viking/syrtis_major_enhanced.tif/full.jpg',\n",
       "  'title': 'Syrtis Major Hemisphere Enhanced'},\n",
       " {'img_url': 'http://astropedia.astrogeology.usgs.gov/download/Mars/Viking/valles_marineris_enhanced.tif/full.jpg',\n",
       "  'title': 'Valles Marineris Hemisphere Enhanced'}]"
      ]
     },
     "execution_count": 373,
     "metadata": {},
     "output_type": "execute_result"
    }
   ],
   "source": [
    "hemisphere_image_urls"
   ]
  },
  {
   "cell_type": "code",
   "execution_count": 384,
   "metadata": {},
   "outputs": [
    {
     "data": {
      "text/plain": [
       "'Cerberus Hemisphere Enhanced'"
      ]
     },
     "execution_count": 384,
     "metadata": {},
     "output_type": "execute_result"
    }
   ],
   "source": [
    "hemisphere_image_urls[0]['title']"
   ]
  },
  {
   "cell_type": "code",
   "execution_count": null,
   "metadata": {
    "collapsed": true
   },
   "outputs": [],
   "source": []
  },
  {
   "cell_type": "code",
   "execution_count": 243,
   "metadata": {
    "collapsed": true
   },
   "outputs": [],
   "source": [
    "###Mars Hemispheres"
   ]
  },
  {
   "cell_type": "code",
   "execution_count": 295,
   "metadata": {
    "collapsed": true
   },
   "outputs": [],
   "source": [
    "#Use Splinter to visit URL\n",
    "url5 = \"https://astrogeology.usgs.gov/search/results?q=hemisphere+enhanced&k1=target&v1=Mars\"\n",
    "browser.visit(url5)"
   ]
  },
  {
   "cell_type": "code",
   "execution_count": 296,
   "metadata": {
    "collapsed": true
   },
   "outputs": [],
   "source": [
    "#Get HTML text\n",
    "html5 = browser.html\n",
    "soup5 = BeautifulSoup(html5, \"html.parser\")\n",
    "hemi_title = []\n",
    "hemi_url = []"
   ]
  },
  {
   "cell_type": "code",
   "execution_count": 297,
   "metadata": {
    "scrolled": true
   },
   "outputs": [
    {
     "name": "stdout",
     "output_type": "stream",
     "text": [
      "Cerberus Hemisphere Enhanced\n",
      "Schiaparelli Hemisphere Enhanced\n",
      "Syrtis Major Hemisphere Enhanced\n",
      "Valles Marineris Hemisphere Enhanced\n"
     ]
    }
   ],
   "source": [
    "#Use BeautifulSoup to find name of each button\n",
    "result5 = soup5.body.find_all('div', class_=\"item\")\n",
    "for each in result5:\n",
    "    print(each.find('h3').text)\n",
    "    hemi_title.append(each.find('h3').text)\n",
    "time.sleep(2)"
   ]
  },
  {
   "cell_type": "code",
   "execution_count": 298,
   "metadata": {},
   "outputs": [
    {
     "data": {
      "text/plain": [
       "['Cerberus Hemisphere Enhanced',\n",
       " 'Schiaparelli Hemisphere Enhanced',\n",
       " 'Syrtis Major Hemisphere Enhanced',\n",
       " 'Valles Marineris Hemisphere Enhanced']"
      ]
     },
     "execution_count": 298,
     "metadata": {},
     "output_type": "execute_result"
    }
   ],
   "source": [
    "hemi_title"
   ]
  },
  {
   "cell_type": "code",
   "execution_count": 299,
   "metadata": {},
   "outputs": [
    {
     "name": "stdout",
     "output_type": "stream",
     "text": [
      "--\n",
      "http://astropedia.astrogeology.usgs.gov/download/Mars/Viking/cerberus_enhanced.tif/full.jpg\n",
      "--\n",
      "http://astropedia.astrogeology.usgs.gov/download/Mars/Viking/schiaparelli_enhanced.tif/full.jpg\n",
      "--\n",
      "http://astropedia.astrogeology.usgs.gov/download/Mars/Viking/syrtis_major_enhanced.tif/full.jpg\n",
      "--\n",
      "http://astropedia.astrogeology.usgs.gov/download/Mars/Viking/valles_marineris_enhanced.tif/full.jpg\n"
     ]
    }
   ],
   "source": [
    "#Use Splinter to browser.click on each button by name in \"hemi_title\", fetch new HTML text, find img url, and return to home page\n",
    "for x in range(0,4):\n",
    "    browser.visit(url5)\n",
    "    browser.click_link_by_partial_text(hemi_title[x])\n",
    "    time.sleep(5)\n",
    "    html_temp = browser.html\n",
    "    soup_temp = BeautifulSoup(html_temp, 'html.parser')\n",
    "    results_temp = soup_temp.body.find('div', class_='downloads').find('a').attrs['href']\n",
    "    print('--')\n",
    "    print(results_temp)\n",
    "    hemi_url.append(results_temp)"
   ]
  },
  {
   "cell_type": "code",
   "execution_count": 322,
   "metadata": {},
   "outputs": [
    {
     "data": {
      "text/plain": [
       "['http://astropedia.astrogeology.usgs.gov/download/Mars/Viking/cerberus_enhanced.tif/full.jpg',\n",
       " 'http://astropedia.astrogeology.usgs.gov/download/Mars/Viking/schiaparelli_enhanced.tif/full.jpg',\n",
       " 'http://astropedia.astrogeology.usgs.gov/download/Mars/Viking/syrtis_major_enhanced.tif/full.jpg',\n",
       " 'http://astropedia.astrogeology.usgs.gov/download/Mars/Viking/valles_marineris_enhanced.tif/full.jpg']"
      ]
     },
     "execution_count": 322,
     "metadata": {},
     "output_type": "execute_result"
    }
   ],
   "source": [
    "hemi_url"
   ]
  },
  {
   "cell_type": "code",
   "execution_count": 342,
   "metadata": {
    "collapsed": true
   },
   "outputs": [],
   "source": [
    "hemisphere_image_urls = []"
   ]
  },
  {
   "cell_type": "code",
   "execution_count": 345,
   "metadata": {
    "collapsed": true
   },
   "outputs": [],
   "source": [
    "#Build dictionary\n",
    "for x in range(len(hemi_title)):\n",
    "    hemisphere_image_urls.append({\"title\": hemi_title[x], \"img_url\": hemi_url[x]})"
   ]
  },
  {
   "cell_type": "code",
   "execution_count": 346,
   "metadata": {},
   "outputs": [
    {
     "data": {
      "text/plain": [
       "[{'img_url': 'http://astropedia.astrogeology.usgs.gov/download/Mars/Viking/cerberus_enhanced.tif/full.jpg',\n",
       "  'title': 'Cerberus Hemisphere Enhanced'},\n",
       " {'img_url': 'http://astropedia.astrogeology.usgs.gov/download/Mars/Viking/schiaparelli_enhanced.tif/full.jpg',\n",
       "  'title': 'Schiaparelli Hemisphere Enhanced'},\n",
       " {'img_url': 'http://astropedia.astrogeology.usgs.gov/download/Mars/Viking/syrtis_major_enhanced.tif/full.jpg',\n",
       "  'title': 'Syrtis Major Hemisphere Enhanced'},\n",
       " {'img_url': 'http://astropedia.astrogeology.usgs.gov/download/Mars/Viking/valles_marineris_enhanced.tif/full.jpg',\n",
       "  'title': 'Valles Marineris Hemisphere Enhanced'}]"
      ]
     },
     "execution_count": 346,
     "metadata": {},
     "output_type": "execute_result"
    }
   ],
   "source": [
    "hemisphere_image_urls"
   ]
  },
  {
   "cell_type": "code",
   "execution_count": null,
   "metadata": {
    "collapsed": true
   },
   "outputs": [],
   "source": []
  },
  {
   "cell_type": "code",
   "execution_count": null,
   "metadata": {
    "collapsed": true
   },
   "outputs": [],
   "source": []
  },
  {
   "cell_type": "code",
   "execution_count": null,
   "metadata": {
    "collapsed": true
   },
   "outputs": [],
   "source": []
  }
 ],
 "metadata": {
  "kernelspec": {
   "display_name": "Python 3",
   "language": "python",
   "name": "python3"
  },
  "language_info": {
   "codemirror_mode": {
    "name": "ipython",
    "version": 3
   },
   "file_extension": ".py",
   "mimetype": "text/x-python",
   "name": "python",
   "nbconvert_exporter": "python",
   "pygments_lexer": "ipython3",
   "version": "3.6.3"
  }
 },
 "nbformat": 4,
 "nbformat_minor": 2
}
