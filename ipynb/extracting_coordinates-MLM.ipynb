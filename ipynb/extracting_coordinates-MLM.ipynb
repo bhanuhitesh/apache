{
 "cells": [
  {
   "cell_type": "code",
   "execution_count": 1,
   "metadata": {},
   "outputs": [],
   "source": [
    "import pandas as pd\n",
    "import numpy as np"
   ]
  },
  {
   "cell_type": "code",
   "execution_count": 2,
   "metadata": {},
   "outputs": [],
   "source": [
    "#read in csv to df\n",
    "responses_df = pd.read_csv('/home/spinster/bootcamp/homework/apache/infiles/Hitesh_IP_demographics.csv')"
   ]
  },
  {
   "cell_type": "code",
   "execution_count": 3,
   "metadata": {},
   "outputs": [],
   "source": [
    "#drop things not used\n",
    "minimum_requirements_df = responses_df.drop(['city',\n",
    "                                            'connection_isp',\n",
    "                                            'continent_code',\n",
    "                                            'continent_name',\n",
    "                                            'country_code',\n",
    "                                            'country_name',\n",
    "                                            'location_capital',\n",
    "                                            'region_name',\n",
    "                                            'time_zone_code',\n",
    "                                            'time_zone_current_time',\n",
    "                                            'time_zone_id',\n",
    "                                            'time_zone_is_daylight_saving',\n",
    "                                            'type',\n",
    "                                            'zip',\n",
    "                                            'time_zone_gmt_offset',\n",
    "                                            'currency_code'],\n",
    "                                            axis=1)"
   ]
  },
  {
   "cell_type": "code",
   "execution_count": 4,
   "metadata": {},
   "outputs": [],
   "source": [
    "#dropna\n",
    "minimum_requirements_df = minimum_requirements_df.dropna(how='any', axis = 0)"
   ]
  },
  {
   "cell_type": "code",
   "execution_count": 5,
   "metadata": {},
   "outputs": [
    {
     "data": {
      "text/html": [
       "<div>\n",
       "<style scoped>\n",
       "    .dataframe tbody tr th:only-of-type {\n",
       "        vertical-align: middle;\n",
       "    }\n",
       "\n",
       "    .dataframe tbody tr th {\n",
       "        vertical-align: top;\n",
       "    }\n",
       "\n",
       "    .dataframe thead th {\n",
       "        text-align: right;\n",
       "    }\n",
       "</style>\n",
       "<table border=\"1\" class=\"dataframe\">\n",
       "  <thead>\n",
       "    <tr style=\"text-align: right;\">\n",
       "      <th></th>\n",
       "      <th>ip</th>\n",
       "      <th>latitude</th>\n",
       "      <th>longitude</th>\n",
       "    </tr>\n",
       "  </thead>\n",
       "  <tbody>\n",
       "    <tr>\n",
       "      <th>0</th>\n",
       "      <td>62.170.2.205</td>\n",
       "      <td>37.1500</td>\n",
       "      <td>15.1833</td>\n",
       "    </tr>\n",
       "    <tr>\n",
       "      <th>1</th>\n",
       "      <td>108.41.39.187</td>\n",
       "      <td>40.5833</td>\n",
       "      <td>-73.9240</td>\n",
       "    </tr>\n",
       "    <tr>\n",
       "      <th>2</th>\n",
       "      <td>216.244.66.194</td>\n",
       "      <td>47.4891</td>\n",
       "      <td>-122.2908</td>\n",
       "    </tr>\n",
       "    <tr>\n",
       "      <th>3</th>\n",
       "      <td>113.96.223.207</td>\n",
       "      <td>23.1167</td>\n",
       "      <td>113.2500</td>\n",
       "    </tr>\n",
       "    <tr>\n",
       "      <th>4</th>\n",
       "      <td>111.206.36.15</td>\n",
       "      <td>39.9289</td>\n",
       "      <td>116.3883</td>\n",
       "    </tr>\n",
       "  </tbody>\n",
       "</table>\n",
       "</div>"
      ],
      "text/plain": [
       "               ip  latitude  longitude\n",
       "0    62.170.2.205   37.1500    15.1833\n",
       "1   108.41.39.187   40.5833   -73.9240\n",
       "2  216.244.66.194   47.4891  -122.2908\n",
       "3  113.96.223.207   23.1167   113.2500\n",
       "4   111.206.36.15   39.9289   116.3883"
      ]
     },
     "execution_count": 5,
     "metadata": {},
     "output_type": "execute_result"
    }
   ],
   "source": [
    "# verify columns\n",
    "minimum_requirements_df.head()"
   ]
  },
  {
   "cell_type": "code",
   "execution_count": 6,
   "metadata": {},
   "outputs": [
    {
     "name": "stdout",
     "output_type": "stream",
     "text": [
      "<class 'pandas.core.frame.DataFrame'>\n",
      "Int64Index: 7724 entries, 0 to 7728\n",
      "Data columns (total 3 columns):\n",
      "ip           7724 non-null object\n",
      "latitude     7724 non-null float64\n",
      "longitude    7724 non-null float64\n",
      "dtypes: float64(2), object(1)\n",
      "memory usage: 241.4+ KB\n"
     ]
    }
   ],
   "source": [
    "# check dtypes and NaN\n",
    "minimum_requirements_df.info()"
   ]
  },
  {
   "cell_type": "code",
   "execution_count": 7,
   "metadata": {},
   "outputs": [],
   "source": [
    "#convert to csv for use in db\n",
    "minimum_requirements_df.to_csv('/home/spinster/bootcamp/homework/apache/infiles/coordinates.csv', sep=',', header=True)"
   ]
  },
  {
   "cell_type": "code",
   "execution_count": null,
   "metadata": {},
   "outputs": [],
   "source": []
  }
 ],
 "metadata": {
  "kernelspec": {
   "display_name": "Python 3",
   "language": "python",
   "name": "python3"
  },
  "language_info": {
   "codemirror_mode": {
    "name": "ipython",
    "version": 3
   },
   "file_extension": ".py",
   "mimetype": "text/x-python",
   "name": "python",
   "nbconvert_exporter": "python",
   "pygments_lexer": "ipython3",
   "version": "3.6.4"
  }
 },
 "nbformat": 4,
 "nbformat_minor": 2
}
